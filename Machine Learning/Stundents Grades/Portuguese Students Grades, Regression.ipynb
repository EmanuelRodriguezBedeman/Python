{
 "cells": [
  {
   "cell_type": "markdown",
   "id": "24475266",
   "metadata": {},
   "source": [
    "# Students Grades for Portuguese Course. \n",
    "## Linear Regression model\n",
    "\n",
    "Here in this project I'm going to explore the dataset of the stundents grades in a Portuguese Course which each row contains a lot of data about the stundent features for studying, his environment, his lifestyle and behavior.  \n",
    "\n",
    "Then, I'll create a Regression Model to predict a stundent final grades by looking into his data."
   ]
  },
  {
   "cell_type": "markdown",
   "id": "d67e11de",
   "metadata": {},
   "source": [
    "# Imports"
   ]
  },
  {
   "cell_type": "code",
   "execution_count": 1,
   "id": "eb78309f",
   "metadata": {},
   "outputs": [],
   "source": [
    "import pandas as pd\n",
    "import numpy as np\n",
    "import matplotlib.pyplot as plt\n",
    "import seaborn as sns\n",
    "import statsmodels.formula.api as smf\n",
    "from sklearn.utils import shuffle\n",
    "from sklearn.metrics import mean_absolute_error\n",
    "from sklearn.linear_model import LinearRegression\n",
    "from sklearn.model_selection import train_test_split"
   ]
  },
  {
   "cell_type": "markdown",
   "id": "f35a6182",
   "metadata": {},
   "source": [
    "# Data Loading\n",
    "\n",
    "As always, we have to check the content inside every column and for this, I'll leave the information related to the whole dataset inside the _readme.md_ in my [GitHub](https://github.com/EmanuelRodriguezBedeman/Python/blob/main/Machine%20Learning/Stundents%20Grades/readme.md)"
   ]
  },
  {
   "cell_type": "code",
   "execution_count": 2,
   "id": "8d4359b6",
   "metadata": {
    "scrolled": true
   },
   "outputs": [
    {
     "data": {
      "text/html": [
       "<div>\n",
       "<style scoped>\n",
       "    .dataframe tbody tr th:only-of-type {\n",
       "        vertical-align: middle;\n",
       "    }\n",
       "\n",
       "    .dataframe tbody tr th {\n",
       "        vertical-align: top;\n",
       "    }\n",
       "\n",
       "    .dataframe thead th {\n",
       "        text-align: right;\n",
       "    }\n",
       "</style>\n",
       "<table border=\"1\" class=\"dataframe\">\n",
       "  <thead>\n",
       "    <tr style=\"text-align: right;\">\n",
       "      <th></th>\n",
       "      <th>school</th>\n",
       "      <th>sex</th>\n",
       "      <th>age</th>\n",
       "      <th>address</th>\n",
       "      <th>famsize</th>\n",
       "      <th>Pstatus</th>\n",
       "      <th>Medu</th>\n",
       "      <th>Fedu</th>\n",
       "      <th>Mjob</th>\n",
       "      <th>Fjob</th>\n",
       "      <th>...</th>\n",
       "      <th>famrel</th>\n",
       "      <th>freetime</th>\n",
       "      <th>goout</th>\n",
       "      <th>Dalc</th>\n",
       "      <th>Walc</th>\n",
       "      <th>health</th>\n",
       "      <th>absences</th>\n",
       "      <th>G1</th>\n",
       "      <th>G2</th>\n",
       "      <th>G3</th>\n",
       "    </tr>\n",
       "  </thead>\n",
       "  <tbody>\n",
       "    <tr>\n",
       "      <th>0</th>\n",
       "      <td>GP</td>\n",
       "      <td>F</td>\n",
       "      <td>18</td>\n",
       "      <td>U</td>\n",
       "      <td>GT3</td>\n",
       "      <td>A</td>\n",
       "      <td>4</td>\n",
       "      <td>4</td>\n",
       "      <td>at_home</td>\n",
       "      <td>teacher</td>\n",
       "      <td>...</td>\n",
       "      <td>4</td>\n",
       "      <td>3</td>\n",
       "      <td>4</td>\n",
       "      <td>1</td>\n",
       "      <td>1</td>\n",
       "      <td>3</td>\n",
       "      <td>4</td>\n",
       "      <td>0</td>\n",
       "      <td>11</td>\n",
       "      <td>11</td>\n",
       "    </tr>\n",
       "    <tr>\n",
       "      <th>1</th>\n",
       "      <td>GP</td>\n",
       "      <td>F</td>\n",
       "      <td>17</td>\n",
       "      <td>U</td>\n",
       "      <td>GT3</td>\n",
       "      <td>T</td>\n",
       "      <td>1</td>\n",
       "      <td>1</td>\n",
       "      <td>at_home</td>\n",
       "      <td>other</td>\n",
       "      <td>...</td>\n",
       "      <td>5</td>\n",
       "      <td>3</td>\n",
       "      <td>3</td>\n",
       "      <td>1</td>\n",
       "      <td>1</td>\n",
       "      <td>3</td>\n",
       "      <td>2</td>\n",
       "      <td>9</td>\n",
       "      <td>11</td>\n",
       "      <td>11</td>\n",
       "    </tr>\n",
       "    <tr>\n",
       "      <th>2</th>\n",
       "      <td>GP</td>\n",
       "      <td>F</td>\n",
       "      <td>15</td>\n",
       "      <td>U</td>\n",
       "      <td>LE3</td>\n",
       "      <td>T</td>\n",
       "      <td>1</td>\n",
       "      <td>1</td>\n",
       "      <td>at_home</td>\n",
       "      <td>other</td>\n",
       "      <td>...</td>\n",
       "      <td>4</td>\n",
       "      <td>3</td>\n",
       "      <td>2</td>\n",
       "      <td>2</td>\n",
       "      <td>3</td>\n",
       "      <td>3</td>\n",
       "      <td>6</td>\n",
       "      <td>12</td>\n",
       "      <td>13</td>\n",
       "      <td>12</td>\n",
       "    </tr>\n",
       "    <tr>\n",
       "      <th>3</th>\n",
       "      <td>GP</td>\n",
       "      <td>F</td>\n",
       "      <td>15</td>\n",
       "      <td>U</td>\n",
       "      <td>GT3</td>\n",
       "      <td>T</td>\n",
       "      <td>4</td>\n",
       "      <td>2</td>\n",
       "      <td>health</td>\n",
       "      <td>services</td>\n",
       "      <td>...</td>\n",
       "      <td>3</td>\n",
       "      <td>2</td>\n",
       "      <td>2</td>\n",
       "      <td>1</td>\n",
       "      <td>1</td>\n",
       "      <td>5</td>\n",
       "      <td>0</td>\n",
       "      <td>14</td>\n",
       "      <td>14</td>\n",
       "      <td>14</td>\n",
       "    </tr>\n",
       "    <tr>\n",
       "      <th>4</th>\n",
       "      <td>GP</td>\n",
       "      <td>F</td>\n",
       "      <td>16</td>\n",
       "      <td>U</td>\n",
       "      <td>GT3</td>\n",
       "      <td>T</td>\n",
       "      <td>3</td>\n",
       "      <td>3</td>\n",
       "      <td>other</td>\n",
       "      <td>other</td>\n",
       "      <td>...</td>\n",
       "      <td>4</td>\n",
       "      <td>3</td>\n",
       "      <td>2</td>\n",
       "      <td>1</td>\n",
       "      <td>2</td>\n",
       "      <td>5</td>\n",
       "      <td>0</td>\n",
       "      <td>11</td>\n",
       "      <td>13</td>\n",
       "      <td>13</td>\n",
       "    </tr>\n",
       "  </tbody>\n",
       "</table>\n",
       "<p>5 rows × 33 columns</p>\n",
       "</div>"
      ],
      "text/plain": [
       "  school sex  age address famsize Pstatus  Medu  Fedu     Mjob      Fjob  ...  \\\n",
       "0     GP   F   18       U     GT3       A     4     4  at_home   teacher  ...   \n",
       "1     GP   F   17       U     GT3       T     1     1  at_home     other  ...   \n",
       "2     GP   F   15       U     LE3       T     1     1  at_home     other  ...   \n",
       "3     GP   F   15       U     GT3       T     4     2   health  services  ...   \n",
       "4     GP   F   16       U     GT3       T     3     3    other     other  ...   \n",
       "\n",
       "  famrel freetime  goout  Dalc  Walc health absences  G1  G2  G3  \n",
       "0      4        3      4     1     1      3        4   0  11  11  \n",
       "1      5        3      3     1     1      3        2   9  11  11  \n",
       "2      4        3      2     2     3      3        6  12  13  12  \n",
       "3      3        2      2     1     1      5        0  14  14  14  \n",
       "4      4        3      2     1     2      5        0  11  13  13  \n",
       "\n",
       "[5 rows x 33 columns]"
      ]
     },
     "execution_count": 2,
     "metadata": {},
     "output_type": "execute_result"
    }
   ],
   "source": [
    "# Data Loading and examination\n",
    "data = pd.read_csv(\"student-por.csv\", delimiter = \";\")\n",
    "data.head()"
   ]
  },
  {
   "cell_type": "markdown",
   "id": "ab9c4ff0",
   "metadata": {},
   "source": [
    "# Data Exploration\n",
    "\n",
    "In this step, we'll explore the data to get more information from it."
   ]
  },
  {
   "cell_type": "code",
   "execution_count": 3,
   "id": "9d8d7e5f",
   "metadata": {},
   "outputs": [
    {
     "name": "stdout",
     "output_type": "stream",
     "text": [
      "Number of Rows: 649\n",
      "Number of Columns: 33\n"
     ]
    }
   ],
   "source": [
    "# Size of the dataset\n",
    "\n",
    "print(\"Number of Rows: {}\\nNumber of Columns: {}\".format(data.shape[0], data.shape[1]))"
   ]
  },
  {
   "cell_type": "code",
   "execution_count": 4,
   "id": "4da2422f",
   "metadata": {},
   "outputs": [
    {
     "name": "stdout",
     "output_type": "stream",
     "text": [
      "Number of Rows: 649\n",
      "Number of Columns: 33\n"
     ]
    },
    {
     "data": {
      "text/html": [
       "<div>\n",
       "<style scoped>\n",
       "    .dataframe tbody tr th:only-of-type {\n",
       "        vertical-align: middle;\n",
       "    }\n",
       "\n",
       "    .dataframe tbody tr th {\n",
       "        vertical-align: top;\n",
       "    }\n",
       "\n",
       "    .dataframe thead th {\n",
       "        text-align: right;\n",
       "    }\n",
       "</style>\n",
       "<table border=\"1\" class=\"dataframe\">\n",
       "  <thead>\n",
       "    <tr style=\"text-align: right;\">\n",
       "      <th></th>\n",
       "      <th>age</th>\n",
       "      <th>Medu</th>\n",
       "      <th>Fedu</th>\n",
       "      <th>traveltime</th>\n",
       "      <th>studytime</th>\n",
       "      <th>failures</th>\n",
       "      <th>famrel</th>\n",
       "      <th>freetime</th>\n",
       "      <th>goout</th>\n",
       "      <th>Dalc</th>\n",
       "      <th>Walc</th>\n",
       "      <th>health</th>\n",
       "      <th>absences</th>\n",
       "      <th>G1</th>\n",
       "      <th>G2</th>\n",
       "      <th>G3</th>\n",
       "    </tr>\n",
       "  </thead>\n",
       "  <tbody>\n",
       "    <tr>\n",
       "      <th>count</th>\n",
       "      <td>649.000000</td>\n",
       "      <td>649.000000</td>\n",
       "      <td>649.000000</td>\n",
       "      <td>649.000000</td>\n",
       "      <td>649.000000</td>\n",
       "      <td>649.000000</td>\n",
       "      <td>649.000000</td>\n",
       "      <td>649.000000</td>\n",
       "      <td>649.000000</td>\n",
       "      <td>649.000000</td>\n",
       "      <td>649.000000</td>\n",
       "      <td>649.000000</td>\n",
       "      <td>649.000000</td>\n",
       "      <td>649.000000</td>\n",
       "      <td>649.000000</td>\n",
       "      <td>649.000000</td>\n",
       "    </tr>\n",
       "    <tr>\n",
       "      <th>mean</th>\n",
       "      <td>16.744222</td>\n",
       "      <td>2.514638</td>\n",
       "      <td>2.306626</td>\n",
       "      <td>1.568567</td>\n",
       "      <td>1.930663</td>\n",
       "      <td>0.221880</td>\n",
       "      <td>3.930663</td>\n",
       "      <td>3.180277</td>\n",
       "      <td>3.184900</td>\n",
       "      <td>1.502311</td>\n",
       "      <td>2.280431</td>\n",
       "      <td>3.536210</td>\n",
       "      <td>3.659476</td>\n",
       "      <td>11.399076</td>\n",
       "      <td>11.570108</td>\n",
       "      <td>11.906009</td>\n",
       "    </tr>\n",
       "    <tr>\n",
       "      <th>std</th>\n",
       "      <td>1.218138</td>\n",
       "      <td>1.134552</td>\n",
       "      <td>1.099931</td>\n",
       "      <td>0.748660</td>\n",
       "      <td>0.829510</td>\n",
       "      <td>0.593235</td>\n",
       "      <td>0.955717</td>\n",
       "      <td>1.051093</td>\n",
       "      <td>1.175766</td>\n",
       "      <td>0.924834</td>\n",
       "      <td>1.284380</td>\n",
       "      <td>1.446259</td>\n",
       "      <td>4.640759</td>\n",
       "      <td>2.745265</td>\n",
       "      <td>2.913639</td>\n",
       "      <td>3.230656</td>\n",
       "    </tr>\n",
       "    <tr>\n",
       "      <th>min</th>\n",
       "      <td>15.000000</td>\n",
       "      <td>0.000000</td>\n",
       "      <td>0.000000</td>\n",
       "      <td>1.000000</td>\n",
       "      <td>1.000000</td>\n",
       "      <td>0.000000</td>\n",
       "      <td>1.000000</td>\n",
       "      <td>1.000000</td>\n",
       "      <td>1.000000</td>\n",
       "      <td>1.000000</td>\n",
       "      <td>1.000000</td>\n",
       "      <td>1.000000</td>\n",
       "      <td>0.000000</td>\n",
       "      <td>0.000000</td>\n",
       "      <td>0.000000</td>\n",
       "      <td>0.000000</td>\n",
       "    </tr>\n",
       "    <tr>\n",
       "      <th>25%</th>\n",
       "      <td>16.000000</td>\n",
       "      <td>2.000000</td>\n",
       "      <td>1.000000</td>\n",
       "      <td>1.000000</td>\n",
       "      <td>1.000000</td>\n",
       "      <td>0.000000</td>\n",
       "      <td>4.000000</td>\n",
       "      <td>3.000000</td>\n",
       "      <td>2.000000</td>\n",
       "      <td>1.000000</td>\n",
       "      <td>1.000000</td>\n",
       "      <td>2.000000</td>\n",
       "      <td>0.000000</td>\n",
       "      <td>10.000000</td>\n",
       "      <td>10.000000</td>\n",
       "      <td>10.000000</td>\n",
       "    </tr>\n",
       "    <tr>\n",
       "      <th>50%</th>\n",
       "      <td>17.000000</td>\n",
       "      <td>2.000000</td>\n",
       "      <td>2.000000</td>\n",
       "      <td>1.000000</td>\n",
       "      <td>2.000000</td>\n",
       "      <td>0.000000</td>\n",
       "      <td>4.000000</td>\n",
       "      <td>3.000000</td>\n",
       "      <td>3.000000</td>\n",
       "      <td>1.000000</td>\n",
       "      <td>2.000000</td>\n",
       "      <td>4.000000</td>\n",
       "      <td>2.000000</td>\n",
       "      <td>11.000000</td>\n",
       "      <td>11.000000</td>\n",
       "      <td>12.000000</td>\n",
       "    </tr>\n",
       "    <tr>\n",
       "      <th>75%</th>\n",
       "      <td>18.000000</td>\n",
       "      <td>4.000000</td>\n",
       "      <td>3.000000</td>\n",
       "      <td>2.000000</td>\n",
       "      <td>2.000000</td>\n",
       "      <td>0.000000</td>\n",
       "      <td>5.000000</td>\n",
       "      <td>4.000000</td>\n",
       "      <td>4.000000</td>\n",
       "      <td>2.000000</td>\n",
       "      <td>3.000000</td>\n",
       "      <td>5.000000</td>\n",
       "      <td>6.000000</td>\n",
       "      <td>13.000000</td>\n",
       "      <td>13.000000</td>\n",
       "      <td>14.000000</td>\n",
       "    </tr>\n",
       "    <tr>\n",
       "      <th>max</th>\n",
       "      <td>22.000000</td>\n",
       "      <td>4.000000</td>\n",
       "      <td>4.000000</td>\n",
       "      <td>4.000000</td>\n",
       "      <td>4.000000</td>\n",
       "      <td>3.000000</td>\n",
       "      <td>5.000000</td>\n",
       "      <td>5.000000</td>\n",
       "      <td>5.000000</td>\n",
       "      <td>5.000000</td>\n",
       "      <td>5.000000</td>\n",
       "      <td>5.000000</td>\n",
       "      <td>32.000000</td>\n",
       "      <td>19.000000</td>\n",
       "      <td>19.000000</td>\n",
       "      <td>19.000000</td>\n",
       "    </tr>\n",
       "  </tbody>\n",
       "</table>\n",
       "</div>"
      ],
      "text/plain": [
       "              age        Medu        Fedu  traveltime   studytime    failures  \\\n",
       "count  649.000000  649.000000  649.000000  649.000000  649.000000  649.000000   \n",
       "mean    16.744222    2.514638    2.306626    1.568567    1.930663    0.221880   \n",
       "std      1.218138    1.134552    1.099931    0.748660    0.829510    0.593235   \n",
       "min     15.000000    0.000000    0.000000    1.000000    1.000000    0.000000   \n",
       "25%     16.000000    2.000000    1.000000    1.000000    1.000000    0.000000   \n",
       "50%     17.000000    2.000000    2.000000    1.000000    2.000000    0.000000   \n",
       "75%     18.000000    4.000000    3.000000    2.000000    2.000000    0.000000   \n",
       "max     22.000000    4.000000    4.000000    4.000000    4.000000    3.000000   \n",
       "\n",
       "           famrel    freetime       goout        Dalc        Walc      health  \\\n",
       "count  649.000000  649.000000  649.000000  649.000000  649.000000  649.000000   \n",
       "mean     3.930663    3.180277    3.184900    1.502311    2.280431    3.536210   \n",
       "std      0.955717    1.051093    1.175766    0.924834    1.284380    1.446259   \n",
       "min      1.000000    1.000000    1.000000    1.000000    1.000000    1.000000   \n",
       "25%      4.000000    3.000000    2.000000    1.000000    1.000000    2.000000   \n",
       "50%      4.000000    3.000000    3.000000    1.000000    2.000000    4.000000   \n",
       "75%      5.000000    4.000000    4.000000    2.000000    3.000000    5.000000   \n",
       "max      5.000000    5.000000    5.000000    5.000000    5.000000    5.000000   \n",
       "\n",
       "         absences          G1          G2          G3  \n",
       "count  649.000000  649.000000  649.000000  649.000000  \n",
       "mean     3.659476   11.399076   11.570108   11.906009  \n",
       "std      4.640759    2.745265    2.913639    3.230656  \n",
       "min      0.000000    0.000000    0.000000    0.000000  \n",
       "25%      0.000000   10.000000   10.000000   10.000000  \n",
       "50%      2.000000   11.000000   11.000000   12.000000  \n",
       "75%      6.000000   13.000000   13.000000   14.000000  \n",
       "max     32.000000   19.000000   19.000000   19.000000  "
      ]
     },
     "execution_count": 4,
     "metadata": {},
     "output_type": "execute_result"
    }
   ],
   "source": [
    "# Showing a summary of the data:\n",
    "\n",
    "print(\"Number of Rows: {}\\nNumber of Columns: {}\".format(data.shape[0], data.shape[1]))\n",
    "data.describe()"
   ]
  },
  {
   "cell_type": "code",
   "execution_count": 5,
   "id": "96ced3f3",
   "metadata": {},
   "outputs": [
    {
     "data": {
      "text/plain": [
       "school        0\n",
       "sex           0\n",
       "age           0\n",
       "address       0\n",
       "famsize       0\n",
       "Pstatus       0\n",
       "Medu          0\n",
       "Fedu          0\n",
       "Mjob          0\n",
       "Fjob          0\n",
       "reason        0\n",
       "guardian      0\n",
       "traveltime    0\n",
       "studytime     0\n",
       "failures      0\n",
       "schoolsup     0\n",
       "famsup        0\n",
       "paid          0\n",
       "activities    0\n",
       "nursery       0\n",
       "higher        0\n",
       "internet      0\n",
       "romantic      0\n",
       "famrel        0\n",
       "freetime      0\n",
       "goout         0\n",
       "Dalc          0\n",
       "Walc          0\n",
       "health        0\n",
       "absences      0\n",
       "G1            0\n",
       "G2            0\n",
       "G3            0\n",
       "dtype: int64"
      ]
     },
     "execution_count": 5,
     "metadata": {},
     "output_type": "execute_result"
    }
   ],
   "source": [
    "# Re-cheking if the data have any NA (Not Available Data).\n",
    "\n",
    "data.isnull().sum()"
   ]
  },
  {
   "cell_type": "markdown",
   "id": "46ef2d09",
   "metadata": {},
   "source": [
    "By cheking the total rows of the data `(649)` and the row `count` in the summary table from above, we can see that matches it in all the columns, which means that there isn't any missing data in any column. \n",
    "\n",
    "Another way to do that, is by checking using the method `isnull()` on the data and add it. \n",
    "\n",
    "This method returns `True` if the data is missing (_NA_) in any row of each column and `False` if it isn't. And by remembering that the boolean `True` mathematically is equal 1, by adding all the True's, we get the total number of _NA_ per column. \n",
    "\n",
    "> `The False's doesn't count because their value is 0.`\n",
    "\n",
    "As we see, none of this columns have any missing data or NA in it (`Nº Rows = count in every column / 0 in all the columns`), so we don't need to deal with it."
   ]
  },
  {
   "cell_type": "markdown",
   "id": "f82543ae",
   "metadata": {},
   "source": [
    "## Creating a subset of the data\n",
    "\n",
    "Since there is a lot of features, I'll keep only those that are close related to the student like his/her grades, studytime, freetime and exam failures, for example."
   ]
  },
  {
   "cell_type": "code",
   "execution_count": 6,
   "id": "4e1e7c60",
   "metadata": {},
   "outputs": [
    {
     "data": {
      "text/html": [
       "<div>\n",
       "<style scoped>\n",
       "    .dataframe tbody tr th:only-of-type {\n",
       "        vertical-align: middle;\n",
       "    }\n",
       "\n",
       "    .dataframe tbody tr th {\n",
       "        vertical-align: top;\n",
       "    }\n",
       "\n",
       "    .dataframe thead th {\n",
       "        text-align: right;\n",
       "    }\n",
       "</style>\n",
       "<table border=\"1\" class=\"dataframe\">\n",
       "  <thead>\n",
       "    <tr style=\"text-align: right;\">\n",
       "      <th></th>\n",
       "      <th>G1</th>\n",
       "      <th>G2</th>\n",
       "      <th>G3</th>\n",
       "      <th>failures</th>\n",
       "      <th>studytime</th>\n",
       "      <th>freetime</th>\n",
       "      <th>absences</th>\n",
       "      <th>internet</th>\n",
       "    </tr>\n",
       "  </thead>\n",
       "  <tbody>\n",
       "    <tr>\n",
       "      <th>0</th>\n",
       "      <td>0</td>\n",
       "      <td>11</td>\n",
       "      <td>11</td>\n",
       "      <td>0</td>\n",
       "      <td>2</td>\n",
       "      <td>3</td>\n",
       "      <td>4</td>\n",
       "      <td>no</td>\n",
       "    </tr>\n",
       "    <tr>\n",
       "      <th>1</th>\n",
       "      <td>9</td>\n",
       "      <td>11</td>\n",
       "      <td>11</td>\n",
       "      <td>0</td>\n",
       "      <td>2</td>\n",
       "      <td>3</td>\n",
       "      <td>2</td>\n",
       "      <td>yes</td>\n",
       "    </tr>\n",
       "    <tr>\n",
       "      <th>2</th>\n",
       "      <td>12</td>\n",
       "      <td>13</td>\n",
       "      <td>12</td>\n",
       "      <td>0</td>\n",
       "      <td>2</td>\n",
       "      <td>3</td>\n",
       "      <td>6</td>\n",
       "      <td>yes</td>\n",
       "    </tr>\n",
       "    <tr>\n",
       "      <th>3</th>\n",
       "      <td>14</td>\n",
       "      <td>14</td>\n",
       "      <td>14</td>\n",
       "      <td>0</td>\n",
       "      <td>3</td>\n",
       "      <td>2</td>\n",
       "      <td>0</td>\n",
       "      <td>yes</td>\n",
       "    </tr>\n",
       "    <tr>\n",
       "      <th>4</th>\n",
       "      <td>11</td>\n",
       "      <td>13</td>\n",
       "      <td>13</td>\n",
       "      <td>0</td>\n",
       "      <td>2</td>\n",
       "      <td>3</td>\n",
       "      <td>0</td>\n",
       "      <td>no</td>\n",
       "    </tr>\n",
       "  </tbody>\n",
       "</table>\n",
       "</div>"
      ],
      "text/plain": [
       "   G1  G2  G3  failures  studytime  freetime  absences internet\n",
       "0   0  11  11         0          2         3         4       no\n",
       "1   9  11  11         0          2         3         2      yes\n",
       "2  12  13  12         0          2         3         6      yes\n",
       "3  14  14  14         0          3         2         0      yes\n",
       "4  11  13  13         0          2         3         0       no"
      ]
     },
     "execution_count": 6,
     "metadata": {},
     "output_type": "execute_result"
    }
   ],
   "source": [
    "# New Dataset with only choosen columns\n",
    "\n",
    "data2 = data[[\"G1\", \"G2\", \"G3\", \"failures\", \"studytime\", \"freetime\", \"absences\", \"internet\"]].copy()\n",
    "data2.head()"
   ]
  },
  {
   "cell_type": "markdown",
   "id": "4c0ee8bf",
   "metadata": {},
   "source": [
    "## Exploring the Data\n",
    "\n",
    "Even though this a step we already did previously, let's see it again to get a closer look at the subset we created:"
   ]
  },
  {
   "cell_type": "code",
   "execution_count": 7,
   "id": "922e7657",
   "metadata": {},
   "outputs": [
    {
     "name": "stdout",
     "output_type": "stream",
     "text": [
      "Numerical columns:\n",
      "\n",
      "-The column 'G1', has values that goes from '0' to '19' and is 'int64' type.\n",
      "\n",
      "-The column 'G2', has values that goes from '0' to '19' and is 'int64' type.\n",
      "\n",
      "-The column 'G3', has values that goes from '0' to '19' and is 'int64' type.\n",
      "\n",
      "-The column 'failures', has values that goes from '0' to '3' and is 'int64' type.\n",
      "\n",
      "-The column 'studytime', has values that goes from '1' to '4' and is 'int64' type.\n",
      "\n",
      "-The column 'freetime', has values that goes from '1' to '5' and is 'int64' type.\n",
      "\n",
      "Categorical column:\n",
      "\n",
      "-The column 'internet' is a categorical column with values of 'yes' or 'no' and is object type\n"
     ]
    },
    {
     "data": {
      "text/html": [
       "<div>\n",
       "<style scoped>\n",
       "    .dataframe tbody tr th:only-of-type {\n",
       "        vertical-align: middle;\n",
       "    }\n",
       "\n",
       "    .dataframe tbody tr th {\n",
       "        vertical-align: top;\n",
       "    }\n",
       "\n",
       "    .dataframe thead th {\n",
       "        text-align: right;\n",
       "    }\n",
       "</style>\n",
       "<table border=\"1\" class=\"dataframe\">\n",
       "  <thead>\n",
       "    <tr style=\"text-align: right;\">\n",
       "      <th></th>\n",
       "      <th>G1</th>\n",
       "      <th>G2</th>\n",
       "      <th>G3</th>\n",
       "      <th>failures</th>\n",
       "      <th>studytime</th>\n",
       "      <th>freetime</th>\n",
       "      <th>absences</th>\n",
       "    </tr>\n",
       "  </thead>\n",
       "  <tbody>\n",
       "    <tr>\n",
       "      <th>count</th>\n",
       "      <td>649.000000</td>\n",
       "      <td>649.000000</td>\n",
       "      <td>649.000000</td>\n",
       "      <td>649.000000</td>\n",
       "      <td>649.000000</td>\n",
       "      <td>649.000000</td>\n",
       "      <td>649.000000</td>\n",
       "    </tr>\n",
       "    <tr>\n",
       "      <th>mean</th>\n",
       "      <td>11.399076</td>\n",
       "      <td>11.570108</td>\n",
       "      <td>11.906009</td>\n",
       "      <td>0.221880</td>\n",
       "      <td>1.930663</td>\n",
       "      <td>3.180277</td>\n",
       "      <td>3.659476</td>\n",
       "    </tr>\n",
       "    <tr>\n",
       "      <th>std</th>\n",
       "      <td>2.745265</td>\n",
       "      <td>2.913639</td>\n",
       "      <td>3.230656</td>\n",
       "      <td>0.593235</td>\n",
       "      <td>0.829510</td>\n",
       "      <td>1.051093</td>\n",
       "      <td>4.640759</td>\n",
       "    </tr>\n",
       "    <tr>\n",
       "      <th>min</th>\n",
       "      <td>0.000000</td>\n",
       "      <td>0.000000</td>\n",
       "      <td>0.000000</td>\n",
       "      <td>0.000000</td>\n",
       "      <td>1.000000</td>\n",
       "      <td>1.000000</td>\n",
       "      <td>0.000000</td>\n",
       "    </tr>\n",
       "    <tr>\n",
       "      <th>25%</th>\n",
       "      <td>10.000000</td>\n",
       "      <td>10.000000</td>\n",
       "      <td>10.000000</td>\n",
       "      <td>0.000000</td>\n",
       "      <td>1.000000</td>\n",
       "      <td>3.000000</td>\n",
       "      <td>0.000000</td>\n",
       "    </tr>\n",
       "    <tr>\n",
       "      <th>50%</th>\n",
       "      <td>11.000000</td>\n",
       "      <td>11.000000</td>\n",
       "      <td>12.000000</td>\n",
       "      <td>0.000000</td>\n",
       "      <td>2.000000</td>\n",
       "      <td>3.000000</td>\n",
       "      <td>2.000000</td>\n",
       "    </tr>\n",
       "    <tr>\n",
       "      <th>75%</th>\n",
       "      <td>13.000000</td>\n",
       "      <td>13.000000</td>\n",
       "      <td>14.000000</td>\n",
       "      <td>0.000000</td>\n",
       "      <td>2.000000</td>\n",
       "      <td>4.000000</td>\n",
       "      <td>6.000000</td>\n",
       "    </tr>\n",
       "    <tr>\n",
       "      <th>max</th>\n",
       "      <td>19.000000</td>\n",
       "      <td>19.000000</td>\n",
       "      <td>19.000000</td>\n",
       "      <td>3.000000</td>\n",
       "      <td>4.000000</td>\n",
       "      <td>5.000000</td>\n",
       "      <td>32.000000</td>\n",
       "    </tr>\n",
       "  </tbody>\n",
       "</table>\n",
       "</div>"
      ],
      "text/plain": [
       "               G1          G2          G3    failures   studytime    freetime  \\\n",
       "count  649.000000  649.000000  649.000000  649.000000  649.000000  649.000000   \n",
       "mean    11.399076   11.570108   11.906009    0.221880    1.930663    3.180277   \n",
       "std      2.745265    2.913639    3.230656    0.593235    0.829510    1.051093   \n",
       "min      0.000000    0.000000    0.000000    0.000000    1.000000    1.000000   \n",
       "25%     10.000000   10.000000   10.000000    0.000000    1.000000    3.000000   \n",
       "50%     11.000000   11.000000   12.000000    0.000000    2.000000    3.000000   \n",
       "75%     13.000000   13.000000   14.000000    0.000000    2.000000    4.000000   \n",
       "max     19.000000   19.000000   19.000000    3.000000    4.000000    5.000000   \n",
       "\n",
       "         absences  \n",
       "count  649.000000  \n",
       "mean     3.659476  \n",
       "std      4.640759  \n",
       "min      0.000000  \n",
       "25%      0.000000  \n",
       "50%      2.000000  \n",
       "75%      6.000000  \n",
       "max     32.000000  "
      ]
     },
     "execution_count": 7,
     "metadata": {},
     "output_type": "execute_result"
    }
   ],
   "source": [
    "# Columns information\n",
    "\n",
    "print(\"Numerical columns:\\n\")\n",
    "\n",
    "for column in data2.columns.tolist()[:-2]:\n",
    "    print(\"-The column '{}', has values that goes from '{}' to '{}' and is '{}' type.\\n\"\n",
    "      .format(column, data2[column].min(), data2[column].max(), data2[column].dtype))\n",
    "    \n",
    "print(\"Categorical column:\\n\")\n",
    "\n",
    "print(\"-The column '{}' is a categorical column with values of 'yes' or 'no' and is {} type\"\n",
    "      .format(data2.columns.tolist()[-1], data2[\"internet\"].dtype))\n",
    "\n",
    "data2.describe()"
   ]
  },
  {
   "cell_type": "markdown",
   "id": "001855fc",
   "metadata": {},
   "source": [
    "As we can see, all this variables are discrete because they are completly countable but not measurable with precision. \n",
    "\n",
    "As an **exception!**, the last column that choosed (`\"internet\"`) is a categorical column.\n",
    "For now, let's keep this column in mind for later."
   ]
  },
  {
   "cell_type": "markdown",
   "id": "54554553",
   "metadata": {},
   "source": [
    "# Machine Learning\n",
    "\n",
    "Now, let's see if we can create a Machine Learning model to do predictions of students grades."
   ]
  },
  {
   "cell_type": "markdown",
   "id": "f36da717",
   "metadata": {},
   "source": [
    "## See the relation between variables:\n",
    "\n",
    "Let's see the relationship between the grades (G1,G2,G3) and the time spent studying, which seems the most related variables:"
   ]
  },
  {
   "cell_type": "code",
   "execution_count": 8,
   "id": "025b31df",
   "metadata": {},
   "outputs": [
    {
     "data": {
      "image/png": "[encoded data removed]",
      "text/plain": [
       "<Figure size 720x360 with 1 Axes>"
      ]
     },
     "metadata": {
      "needs_background": "light"
     },
     "output_type": "display_data"
    }
   ],
   "source": [
    "plt.figure(figsize=(10,5))\n",
    "\n",
    "plt.title(\"Grades based on study time\")\n",
    "sns.regplot(x=\"studytime\", y=\"G1\", data=data2, color=\"orange\",label=\"G1: First Period Grades\", \n",
    "            scatter= False, ci= None)\n",
    "sns.regplot(x=\"studytime\", y=\"G2\", data=data2, color=\"red\", label=\"G2: Second Period Grades\",\n",
    "           scatter= False, ci= None)\n",
    "sns.regplot(x=\"studytime\", y=\"G3\", data=data2, color=\"blue\", label=\"G3: Final Period Grades\",\n",
    "            scatter= False, ci= None)\n",
    "plt.xlabel(\"Study Time\")\n",
    "plt.ylabel(\"Grades\")\n",
    "\n",
    "plt.legend(loc=\"upper left\")\n",
    "plt.show()"
   ]
  },
  {
   "cell_type": "markdown",
   "id": "f96f781d",
   "metadata": {},
   "source": [
    "As we can see there is a strong relationship between this variables, all of them are linear but the most straight one is the relation between the `Study Time` and `G3`. "
   ]
  },
  {
   "cell_type": "markdown",
   "id": "716825e6",
   "metadata": {},
   "source": [
    "## Data Pre-Processing\n",
    "\n",
    "I'll **shuffle** the data. Because, if there was any organization of the data that could lead to a situation where some of the data from the _training set_ is not available on the _test set_ (_or vice verse_) or in data that will be pass though this model, we can avoid that by this way."
   ]
  },
  {
   "cell_type": "code",
   "execution_count": 9,
   "id": "d0a46cc4",
   "metadata": {},
   "outputs": [],
   "source": [
    "data3 = shuffle(data2.copy(), random_state=0)"
   ]
  },
  {
   "cell_type": "markdown",
   "id": "54ee4095",
   "metadata": {},
   "source": [
    "## Choosing the feature and the target\n",
    "\n",
    "Now we'll **choose the features** (_predict variables_) that will be used as a feature and the target (_target variable_).\n",
    "\n",
    "- In this case I'll try to predict the final grades `G3` by using only the `study time` column because as we saw, there is a strong relationship between this two variables. **A linear relation**."
   ]
  },
  {
   "cell_type": "code",
   "execution_count": 10,
   "id": "5e696455",
   "metadata": {},
   "outputs": [],
   "source": [
    "# Predict variable (X) and target variable (Y)\n",
    "\n",
    "X = data3[\"studytime\"]\n",
    "Y = data3[\"G3\"]"
   ]
  },
  {
   "cell_type": "markdown",
   "id": "b313f146",
   "metadata": {},
   "source": [
    "## Making the Training and Test Sets\n",
    "<br>\n",
    "We split the data into two diffent parts: \n",
    "\n",
    "\n",
    "- **_Training Set_**: It's the part of the data that will be used to create and train the model.\n",
    "\n",
    "\n",
    "- **_Test Set_**: It's the part of the data that will be used to test the model, to know how good actually is.\n",
    "\n",
    "Both will have data from predict variables and the target variable, but in different proportion. \n",
    "\n",
    "The training set will have 80% of the total data, and the test set will have 20%."
   ]
  },
  {
   "cell_type": "code",
   "execution_count": 11,
   "id": "25982b16",
   "metadata": {},
   "outputs": [],
   "source": [
    "# Dividing the data in training and test sets\n",
    "\n",
    "X_train, X_test, Y_train, Y_test = train_test_split(X, Y, test_size = 0.2, random_state=0)"
   ]
  },
  {
   "cell_type": "markdown",
   "id": "910daf6c",
   "metadata": {},
   "source": [
    "# Creating the model\n",
    "\n",
    "Now that our data is ready, let's create the model with the **_training data_**, make predictions and validate our model using the **_test data_**."
   ]
  },
  {
   "cell_type": "code",
   "execution_count": 12,
   "id": "7575aea3",
   "metadata": {},
   "outputs": [
    {
     "data": {
      "text/plain": [
       "LinearRegression()"
      ]
     },
     "execution_count": 12,
     "metadata": {},
     "output_type": "execute_result"
    }
   ],
   "source": [
    "# Creating the Linear model\n",
    "\n",
    "lm = LinearRegression()\n",
    "lm.fit(X_train.values.reshape(-1, 1), Y_train) # Training the model"
   ]
  },
  {
   "cell_type": "code",
   "execution_count": 13,
   "id": "a0041d46",
   "metadata": {
    "scrolled": true
   },
   "outputs": [
    {
     "data": {
      "text/plain": [
       "array([11.1633364 , 12.01918022, 12.01918022, 11.1633364 , 12.01918022])"
      ]
     },
     "execution_count": 13,
     "metadata": {},
     "output_type": "execute_result"
    }
   ],
   "source": [
    "# Making predictions with the model that we builded\n",
    "\n",
    "predictions = lm.predict(X_test.values.reshape(-1, 1)) # Predicting the target with test data\n",
    "predictions[:5] # Sample of predictions"
   ]
  },
  {
   "cell_type": "markdown",
   "id": "9268670a",
   "metadata": {},
   "source": [
    "Below here, I create a Data Frame / Data Set with the data used to create the predictions and the \"real\" predictions for that data.\n",
    "\n",
    "I usually do this just to see the actual data and the predicted data by myself."
   ]
  },
  {
   "cell_type": "code",
   "execution_count": 14,
   "id": "8f91f0e3",
   "metadata": {
    "scrolled": true
   },
   "outputs": [
    {
     "data": {
      "text/html": [
       "<div>\n",
       "<style scoped>\n",
       "    .dataframe tbody tr th:only-of-type {\n",
       "        vertical-align: middle;\n",
       "    }\n",
       "\n",
       "    .dataframe tbody tr th {\n",
       "        vertical-align: top;\n",
       "    }\n",
       "\n",
       "    .dataframe thead th {\n",
       "        text-align: right;\n",
       "    }\n",
       "</style>\n",
       "<table border=\"1\" class=\"dataframe\">\n",
       "  <thead>\n",
       "    <tr style=\"text-align: right;\">\n",
       "      <th></th>\n",
       "      <th>Study_Time</th>\n",
       "      <th>G3</th>\n",
       "      <th>Predicted_G3</th>\n",
       "    </tr>\n",
       "  </thead>\n",
       "  <tbody>\n",
       "    <tr>\n",
       "      <th>19</th>\n",
       "      <td>1</td>\n",
       "      <td>12</td>\n",
       "      <td>11.163336</td>\n",
       "    </tr>\n",
       "    <tr>\n",
       "      <th>462</th>\n",
       "      <td>2</td>\n",
       "      <td>14</td>\n",
       "      <td>12.019180</td>\n",
       "    </tr>\n",
       "    <tr>\n",
       "      <th>124</th>\n",
       "      <td>2</td>\n",
       "      <td>11</td>\n",
       "      <td>12.019180</td>\n",
       "    </tr>\n",
       "    <tr>\n",
       "      <th>177</th>\n",
       "      <td>1</td>\n",
       "      <td>8</td>\n",
       "      <td>11.163336</td>\n",
       "    </tr>\n",
       "    <tr>\n",
       "      <th>215</th>\n",
       "      <td>2</td>\n",
       "      <td>12</td>\n",
       "      <td>12.019180</td>\n",
       "    </tr>\n",
       "  </tbody>\n",
       "</table>\n",
       "</div>"
      ],
      "text/plain": [
       "     Study_Time  G3  Predicted_G3\n",
       "19            1  12     11.163336\n",
       "462           2  14     12.019180\n",
       "124           2  11     12.019180\n",
       "177           1   8     11.163336\n",
       "215           2  12     12.019180"
      ]
     },
     "execution_count": 14,
     "metadata": {},
     "output_type": "execute_result"
    }
   ],
   "source": [
    "lm_results = pd.DataFrame({\n",
    "    \"Study_Time\": X_test,\n",
    "    \"G3\": Y_test,\n",
    "    \"Predicted_G3\" : predictions\n",
    "})\n",
    "\n",
    "lm_results.head()"
   ]
  },
  {
   "cell_type": "markdown",
   "id": "a047cbf5",
   "metadata": {},
   "source": [
    "# Validating the model\n",
    "\n",
    "There is different ways.\n",
    "\n",
    "* We can \"manually\" see it by comparing the values of the real data and the predicted data, but clearly this method isn't the best one.\n",
    "\n",
    "\n",
    "* With `.score()` we are calculating the value of $R^2$ (also known as [**Coefficient of Determination**](https://en.wikipedia.org/wiki/Coefficient_of_determination)), which you can understand it as \"_accuracy_\" of the model. It's a number between 0 and 1 and, as it gets closer to 1, it means that the model is performing better. (_but not always_).\n",
    "\n",
    "\n",
    "* Also we can determinate how accurate are the predictions made with the model, by calculating the difference between the actual value of the target variable and the value of the prediction on the test set to see how much is the difference (**the error**) between them.\n",
    "\n",
    "    After that, we could calculate the **Mean** for those **errors** in **absolute values**. What is called \"**_Mean Absolute Error_**\" (**_MAE_**) and Scikit-learn offers a function to do this with the same name \"`mean_absolute_error`()\". \n",
    "\n",
    "    [For another example of MAE visit this link](https://www.kaggle.com/dansbecker/model-validation)"
   ]
  },
  {
   "cell_type": "code",
   "execution_count": 15,
   "id": "cc2cde1d",
   "metadata": {},
   "outputs": [
    {
     "name": "stdout",
     "output_type": "stream",
     "text": [
      "The model accuracy is: 9.47%\n"
     ]
    }
   ],
   "source": [
    "# This the result of R squared, take it like the accuracy of our model.\n",
    "\n",
    "print(\"The model accuracy is: \" + str(round(lm.score(X_test.values.reshape(-1, 1), Y_test)*100,2)) + \"%\")"
   ]
  },
  {
   "cell_type": "code",
   "execution_count": 16,
   "id": "754d24df",
   "metadata": {},
   "outputs": [
    {
     "name": "stdout",
     "output_type": "stream",
     "text": [
      "The MAE of the model is: 2.2899115416671467\n"
     ]
    }
   ],
   "source": [
    "# Calculate the Mean Absolute Error\n",
    "\n",
    "print(\"The MAE of the model is:\",mean_absolute_error(Y_test, predictions))"
   ]
  },
  {
   "cell_type": "markdown",
   "id": "aea60dbb",
   "metadata": {},
   "source": [
    "By watching at the dataframe that we created, we see that sometimes the predictions (**Predicted_G3**) are close, but somer others are REALLY far from the actual data (**G3**).\n",
    "\n",
    "- For example, we see that for a **G3** value of `6` the **Prediction** was `~11`, something around `5~` points of errors. Which for grades is a lot.\n",
    "\n",
    "- The **accuracy** $(R^2)$ of our model is around `9.47%`, which is really poor.\n",
    "\n",
    "- The **MAE** is `~2.3` which seems not to be big, but for grades is really a big range of mistake."
   ]
  },
  {
   "cell_type": "markdown",
   "id": "3bd6e962",
   "metadata": {},
   "source": [
    "Let's try again the [algorithm](https://en.wikipedia.org/wiki/Algorithm) that I created but without shuffling the data:"
   ]
  },
  {
   "cell_type": "code",
   "execution_count": 17,
   "id": "fa5a307e",
   "metadata": {},
   "outputs": [
    {
     "name": "stdout",
     "output_type": "stream",
     "text": [
      "The model accuracy is: 9.67%\n",
      "The MAE of the model is: 1.8823476539251052\n"
     ]
    },
    {
     "data": {
      "text/html": [
       "<div>\n",
       "<style scoped>\n",
       "    .dataframe tbody tr th:only-of-type {\n",
       "        vertical-align: middle;\n",
       "    }\n",
       "\n",
       "    .dataframe tbody tr th {\n",
       "        vertical-align: top;\n",
       "    }\n",
       "\n",
       "    .dataframe thead th {\n",
       "        text-align: right;\n",
       "    }\n",
       "</style>\n",
       "<table border=\"1\" class=\"dataframe\">\n",
       "  <thead>\n",
       "    <tr style=\"text-align: right;\">\n",
       "      <th></th>\n",
       "      <th>Study_Time</th>\n",
       "      <th>Grades_1</th>\n",
       "      <th>Grades_predicted</th>\n",
       "    </tr>\n",
       "  </thead>\n",
       "  <tbody>\n",
       "    <tr>\n",
       "      <th>532</th>\n",
       "      <td>2</td>\n",
       "      <td>8</td>\n",
       "      <td>11.918206</td>\n",
       "    </tr>\n",
       "    <tr>\n",
       "      <th>375</th>\n",
       "      <td>3</td>\n",
       "      <td>15</td>\n",
       "      <td>12.855361</td>\n",
       "    </tr>\n",
       "    <tr>\n",
       "      <th>306</th>\n",
       "      <td>2</td>\n",
       "      <td>16</td>\n",
       "      <td>11.918206</td>\n",
       "    </tr>\n",
       "    <tr>\n",
       "      <th>625</th>\n",
       "      <td>1</td>\n",
       "      <td>10</td>\n",
       "      <td>10.981052</td>\n",
       "    </tr>\n",
       "    <tr>\n",
       "      <th>480</th>\n",
       "      <td>1</td>\n",
       "      <td>10</td>\n",
       "      <td>10.981052</td>\n",
       "    </tr>\n",
       "  </tbody>\n",
       "</table>\n",
       "</div>"
      ],
      "text/plain": [
       "     Study_Time  Grades_1  Grades_predicted\n",
       "532           2         8         11.918206\n",
       "375           3        15         12.855361\n",
       "306           2        16         11.918206\n",
       "625           1        10         10.981052\n",
       "480           1        10         10.981052"
      ]
     },
     "execution_count": 17,
     "metadata": {},
     "output_type": "execute_result"
    }
   ],
   "source": [
    "# Algorithm\n",
    "\n",
    "# Predict variable (X) and target variable (Y)\n",
    "X = data2[\"studytime\"]\n",
    "Y = data2[\"G3\"]\n",
    "\n",
    "# Dividing the data in training and test sets\n",
    "X_train, X_test, Y_train, Y_test = train_test_split(X, Y, test_size = 0.2, random_state = 0)\n",
    "\n",
    "# Creating the Linear model\n",
    "lm = LinearRegression()\n",
    "lm.fit(X_train.values.reshape(-1, 1), Y_train)\n",
    "\n",
    "# Creating predictions with the model\n",
    "predictions = lm.predict(X_test.values.reshape(-1, 1))\n",
    "predictions[:5]\n",
    "\n",
    "# Creating the DF with the data used, the actual objective data and the predicted data\n",
    "lm_results = pd.DataFrame({\n",
    "    \"Study_Time\": X_test,\n",
    "    \"Grades_1\": Y_test,\n",
    "    \"Grades_predicted\" : predictions\n",
    "})\n",
    "\n",
    "print(\"The model accuracy is: \" + str(round(lm.score(X_test.values.reshape(-1, 1), Y_test)*100,2)) + \"%\")\n",
    "print(\"The MAE of the model is:\",mean_absolute_error(Y_test, predictions))\n",
    "\n",
    "lm_results.head()"
   ]
  },
  {
   "cell_type": "markdown",
   "id": "d02bf59c",
   "metadata": {},
   "source": [
    "Once again, we take a look into the data and we can see that this time for a value of `8` the prediction was `12~`, like `5~` points of error.\n",
    "\n",
    "And the \"accuracy\" of the model using data without shuffling is ~10% which is still poor."
   ]
  },
  {
   "cell_type": "markdown",
   "id": "15adc3fe",
   "metadata": {},
   "source": [
    "# Multiple Linear Regression\n",
    "\n",
    "For the last example we only used one feature to make the model, but if we use more variables that could be related to our objective, maybe we could create better models.\n",
    "\n",
    "For now, the equation that we created for the model, looks like this:\n",
    "\n",
    "$y = \\beta \\cdot X + \\alpha$\n",
    "\n",
    "But if we add more variables it will look like this: \n",
    "\n",
    "$y = \\beta_1 \\cdot X_1 + \\alpha + \\beta_2 \\cdot X_2 + \\beta_n \\cdot X_n ...$\n",
    "\n",
    "This equation could (probably) take us closer to a better prediction model (**predicts closer values to $y$**)\n",
    "\n",
    "But could also happend that, if we add more variables to the model it can also be worst (**predicts more distant values from $y$**)\n",
    "\n",
    "This problem is called **_Multicollinearity Problem_** and mainly is produced because there is a strong correlation between the input variables (**_the features_**)."
   ]
  },
  {
   "cell_type": "markdown",
   "id": "b651ed82",
   "metadata": {},
   "source": [
    "## Linear Regression calculated values\n",
    "\n",
    "Before going deeper into the multiple Linear Regression, let's check how our last Linear Model Equation was composed:"
   ]
  },
  {
   "cell_type": "code",
   "execution_count": 18,
   "id": "249d5c1d",
   "metadata": {},
   "outputs": [
    {
     "name": "stdout",
     "output_type": "stream",
     "text": [
      "The alpha of the last model is: 10.043897047213012\n"
     ]
    }
   ],
   "source": [
    "# To get the alfa of the model (also called intercept):\n",
    "\n",
    "print(\"The alpha of the last model is:\", lm.intercept_)"
   ]
  },
  {
   "cell_type": "code",
   "execution_count": 19,
   "id": "639d1367",
   "metadata": {},
   "outputs": [
    {
     "name": "stdout",
     "output_type": "stream",
     "text": [
      "The Beta of the last model is: [0.93715459]\n"
     ]
    }
   ],
   "source": [
    "# To get the beta of the model (also called coeficient):\n",
    "\n",
    "print(\"The Beta of the last model is:\", lm.coef_)"
   ]
  },
  {
   "cell_type": "markdown",
   "id": "523a880c",
   "metadata": {},
   "source": [
    "So, the equation of our last linear model to predict a student final grade would look like this:\n",
    "\n",
    "$Final\\hspace{1mm}Grade = 0.94 \\cdot (study\\hspace{2.5mm}time) + 10 $"
   ]
  },
  {
   "cell_type": "markdown",
   "id": "b4dd22c6",
   "metadata": {},
   "source": [
    "## Correlations between variables\n",
    "\n",
    "Now let's check the correlation of the variables, so we see which variables (from the subset that we created) are better for predicting the final grades (`\"G3\"`)."
   ]
  },
  {
   "cell_type": "code",
   "execution_count": 20,
   "id": "24b11ce5",
   "metadata": {
    "scrolled": false
   },
   "outputs": [
    {
     "data": {
      "text/html": [
       "<div>\n",
       "<style scoped>\n",
       "    .dataframe tbody tr th:only-of-type {\n",
       "        vertical-align: middle;\n",
       "    }\n",
       "\n",
       "    .dataframe tbody tr th {\n",
       "        vertical-align: top;\n",
       "    }\n",
       "\n",
       "    .dataframe thead th {\n",
       "        text-align: right;\n",
       "    }\n",
       "</style>\n",
       "<table border=\"1\" class=\"dataframe\">\n",
       "  <thead>\n",
       "    <tr style=\"text-align: right;\">\n",
       "      <th></th>\n",
       "      <th>G1</th>\n",
       "      <th>G2</th>\n",
       "      <th>G3</th>\n",
       "      <th>failures</th>\n",
       "      <th>studytime</th>\n",
       "      <th>freetime</th>\n",
       "      <th>absences</th>\n",
       "    </tr>\n",
       "  </thead>\n",
       "  <tbody>\n",
       "    <tr>\n",
       "      <th>G1</th>\n",
       "      <td>1.000000</td>\n",
       "      <td>0.864982</td>\n",
       "      <td>0.826387</td>\n",
       "      <td>-0.384210</td>\n",
       "      <td>0.260875</td>\n",
       "      <td>-0.094497</td>\n",
       "      <td>-0.147149</td>\n",
       "    </tr>\n",
       "    <tr>\n",
       "      <th>G2</th>\n",
       "      <td>0.864982</td>\n",
       "      <td>1.000000</td>\n",
       "      <td>0.918548</td>\n",
       "      <td>-0.385782</td>\n",
       "      <td>0.240498</td>\n",
       "      <td>-0.106678</td>\n",
       "      <td>-0.124745</td>\n",
       "    </tr>\n",
       "    <tr>\n",
       "      <th>G3</th>\n",
       "      <td>0.826387</td>\n",
       "      <td>0.918548</td>\n",
       "      <td>1.000000</td>\n",
       "      <td>-0.393316</td>\n",
       "      <td>0.249789</td>\n",
       "      <td>-0.122705</td>\n",
       "      <td>-0.091379</td>\n",
       "    </tr>\n",
       "    <tr>\n",
       "      <th>failures</th>\n",
       "      <td>-0.384210</td>\n",
       "      <td>-0.385782</td>\n",
       "      <td>-0.393316</td>\n",
       "      <td>1.000000</td>\n",
       "      <td>-0.147441</td>\n",
       "      <td>0.108995</td>\n",
       "      <td>0.122779</td>\n",
       "    </tr>\n",
       "    <tr>\n",
       "      <th>studytime</th>\n",
       "      <td>0.260875</td>\n",
       "      <td>0.240498</td>\n",
       "      <td>0.249789</td>\n",
       "      <td>-0.147441</td>\n",
       "      <td>1.000000</td>\n",
       "      <td>-0.068829</td>\n",
       "      <td>-0.118389</td>\n",
       "    </tr>\n",
       "    <tr>\n",
       "      <th>freetime</th>\n",
       "      <td>-0.094497</td>\n",
       "      <td>-0.106678</td>\n",
       "      <td>-0.122705</td>\n",
       "      <td>0.108995</td>\n",
       "      <td>-0.068829</td>\n",
       "      <td>1.000000</td>\n",
       "      <td>-0.018716</td>\n",
       "    </tr>\n",
       "    <tr>\n",
       "      <th>absences</th>\n",
       "      <td>-0.147149</td>\n",
       "      <td>-0.124745</td>\n",
       "      <td>-0.091379</td>\n",
       "      <td>0.122779</td>\n",
       "      <td>-0.118389</td>\n",
       "      <td>-0.018716</td>\n",
       "      <td>1.000000</td>\n",
       "    </tr>\n",
       "  </tbody>\n",
       "</table>\n",
       "</div>"
      ],
      "text/plain": [
       "                 G1        G2        G3  failures  studytime  freetime  \\\n",
       "G1         1.000000  0.864982  0.826387 -0.384210   0.260875 -0.094497   \n",
       "G2         0.864982  1.000000  0.918548 -0.385782   0.240498 -0.106678   \n",
       "G3         0.826387  0.918548  1.000000 -0.393316   0.249789 -0.122705   \n",
       "failures  -0.384210 -0.385782 -0.393316  1.000000  -0.147441  0.108995   \n",
       "studytime  0.260875  0.240498  0.249789 -0.147441   1.000000 -0.068829   \n",
       "freetime  -0.094497 -0.106678 -0.122705  0.108995  -0.068829  1.000000   \n",
       "absences  -0.147149 -0.124745 -0.091379  0.122779  -0.118389 -0.018716   \n",
       "\n",
       "           absences  \n",
       "G1        -0.147149  \n",
       "G2        -0.124745  \n",
       "G3        -0.091379  \n",
       "failures   0.122779  \n",
       "studytime -0.118389  \n",
       "freetime  -0.018716  \n",
       "absences   1.000000  "
      ]
     },
     "execution_count": 20,
     "metadata": {},
     "output_type": "execute_result"
    },
    {
     "data": {
      "image/png": "[encoded data removed]",
      "text/plain": [
       "<Figure size 288x288 with 1 Axes>"
      ]
     },
     "metadata": {
      "needs_background": "light"
     },
     "output_type": "display_data"
    }
   ],
   "source": [
    "# Correlation between the variables:\n",
    "\n",
    "plt.matshow(data2.corr())\n",
    "data2.corr()"
   ]
  },
  {
   "cell_type": "markdown",
   "id": "f6094276",
   "metadata": {},
   "source": [
    "Let's focus on the **column \"G3\"** or **column 2** in the heatmap.\n",
    "\n",
    "As we can see most most of the variables have a strong correlation with this one, except for the variable `\"failures\"` which also have a very low correlation with the other variables.\n",
    "\n",
    "This correlation could be positive or negative. \n",
    "\n",
    "- **Positive correlation**: This means that as the variable increases, the related variable also increases, for example:\n",
    "$$\\uparrow Study \\hspace{1mm} Time\\hspace{1mm} \\uparrow Final Grades$$\n",
    "\n",
    "- **Negative correlation**: This means that as the variable increases, the related variable decreases, for example:\n",
    "\n",
    "$$\\uparrow Failures\\hspace{1mm} \\downarrow \\hspace{1mm} Final Grades$$"
   ]
  },
  {
   "attachments": {
    "image-2.png": {
     "image/png": "[encoded data removed]"
    }
   },
   "cell_type": "markdown",
   "id": "50551d79",
   "metadata": {},
   "source": [
    "## Multicollinearity Problem\n",
    "\n",
    "This problem is caused because there is a strong correlation between the input variables (features) for a target variable, meaning because of this correlations their values for a target variable change because of this.\n",
    "\n",
    "_For example_, looking again at the correlations table, we can see that for the features **G1** and **G2**...\n",
    "\n",
    "![image-2.png](attachment:image-2.png)\n",
    "\n",
    "> _Later we'll use this ones to predict final grades, because of their strong correlation with G3._\n",
    "\n",
    "There is really strong correlation ($~86$%), almost 1. It's like they were exactly the same variables.\n",
    "\n",
    "> _That's why in other cells we a 1 in the correlation because if you see the correlation between yourself and yourself, that correlation will be 100% (1)_ because you are exactly the same.\n",
    "\n",
    "And since this correlation is positive it means that for a value of G1, G2 increases and that increment reflects on the variable target (G3) more above than it has to be."
   ]
  },
  {
   "cell_type": "markdown",
   "id": "a3e130fb",
   "metadata": {},
   "source": [
    "## Variance Inflation Factor (VIF)\n",
    "\n",
    "We can use this technique to know if the correlation between this the variable has is so strong that it should be eliminated from the model because is making it worst.\n",
    "\n",
    "To use it, we must introduce the variable that's giving problems by the others variables and calculate the [VIF](https://en.wikipedia.org/wiki/Variance_inflation_factor):\n",
    "\n",
    "<center><font size=6> $VIF = 1/(1 - R^2)$ </font></center>\n",
    "\n",
    "#### What to do values if the values of VIF are:\n",
    "* VIF = 1 : The variables or not correlated and they can be used.\n",
    "* VIF < 5 : The variables have a moderate correlation and they can stay in the model.\n",
    "* VIF > 5 : The variables have a highly correlation and must be eliminated from the model.\n",
    "\n",
    "To make things easier I made a function to calculate it faster:"
   ]
  },
  {
   "cell_type": "code",
   "execution_count": 21,
   "id": "24efde31",
   "metadata": {},
   "outputs": [],
   "source": [
    "# Function to calculate VIF\n",
    "\n",
    "def VIF(data,feature_1, feature_2, plus_feature):\n",
    "    lm_n = smf.ols(formula= feature_1 + \"~\" + feature_2 + \"+\"  + plus_feature, data = data2).fit()\n",
    "    rsquared_n = lm_n.rsquared\n",
    "    VIF = 1/(1-rsquared_n)\n",
    "    return VIF"
   ]
  },
  {
   "cell_type": "code",
   "execution_count": 22,
   "id": "84efd3d0",
   "metadata": {},
   "outputs": [
    {
     "data": {
      "text/plain": [
       "4.018609444902038"
      ]
     },
     "execution_count": 22,
     "metadata": {},
     "output_type": "execute_result"
    }
   ],
   "source": [
    "# Calculate VIF for G1 by G2 and studytime\n",
    "\n",
    "VIF(data2 ,\"G1\",\"G2\", \"studytime\")"
   ]
  },
  {
   "cell_type": "code",
   "execution_count": 23,
   "id": "7ead0d43",
   "metadata": {},
   "outputs": [
    {
     "data": {
      "text/plain": [
       "3.975032131494133"
      ]
     },
     "execution_count": 23,
     "metadata": {},
     "output_type": "execute_result"
    }
   ],
   "source": [
    "# Calculate VIF for G2 by G1 and studytime\n",
    "\n",
    "VIF(data2 ,\"G2\", \"G1\", \"studytime\")"
   ]
  },
  {
   "cell_type": "code",
   "execution_count": 24,
   "id": "5198e03b",
   "metadata": {},
   "outputs": [
    {
     "data": {
      "text/plain": [
       "1.074034491079331"
      ]
     },
     "execution_count": 24,
     "metadata": {},
     "output_type": "execute_result"
    }
   ],
   "source": [
    "# Calculate VIF for studytime by G1 and G2\n",
    "\n",
    "VIF(data2 ,\"studytime\", \"G1\", \"G2\")"
   ]
  },
  {
   "cell_type": "code",
   "execution_count": 25,
   "id": "8f307332",
   "metadata": {},
   "outputs": [
    {
     "data": {
      "text/plain": [
       "1.074034491079331"
      ]
     },
     "execution_count": 25,
     "metadata": {},
     "output_type": "execute_result"
    }
   ],
   "source": [
    "# Calculate VIF for studytime by G2 and G1\n",
    "\n",
    "VIF(data2 ,\"studytime\", \"G2\", \"G1\")"
   ]
  },
  {
   "cell_type": "markdown",
   "id": "c3f3cd45",
   "metadata": {},
   "source": [
    "As we can see, and following the recomendation left above, this variables are related but not enough to corrupt or create a bad model so they can stay in the model."
   ]
  },
  {
   "cell_type": "markdown",
   "id": "28f185aa",
   "metadata": {},
   "source": [
    "## Function to calculate Linear Models faster:\n",
    "\n",
    "Since I'm going to create multiple linear models, I'll create a function to make it easier and faster."
   ]
  },
  {
   "cell_type": "code",
   "execution_count": 26,
   "id": "a96e691c",
   "metadata": {},
   "outputs": [],
   "source": [
    "# Function to create Linear Models with Scikit-Learn\n",
    "\n",
    "def linear_model_creator(df,feature_variables, target_variable, test_size = 0.2):\n",
    "    # Algorithm\n",
    "    \n",
    "    # Predict variable (X) and target variable (Y)\n",
    "    X = np.array(df[feature_variables])\n",
    "    Y = np.array(df[target_variable])\n",
    "\n",
    "    # Dividing the data in training and test sets\n",
    "    X_train, X_test, Y_train, Y_test = train_test_split(X, Y, test_size = test_size, random_state = 0)\n",
    "        \n",
    "    # Creating the Linear model\n",
    "    lm = LinearRegression()\n",
    "    lm.fit(X_train, Y_train)\n",
    "\n",
    "    # Creating predictions with the model\n",
    "    predictions = lm.predict(X_test)\n",
    "\n",
    "    # Creating the DF with the used features, the target variable and the predicted data\n",
    "    dictionary = {}\n",
    "\n",
    "    for feature in feature_variables:\n",
    "        dictionary[feature] = X_test[:, feature_variables.index(feature)]\n",
    "\n",
    "    lm_results = pd.DataFrame.from_dict(dictionary)\n",
    "    lm_results[\"Y_target\"] = Y_test\n",
    "    lm_results[\"Y_predicted\"] = predictions\n",
    "    \n",
    "    print(\"Target:\",target_variable)\n",
    "    print(\"Features:\", feature_variables)\n",
    "    print(\"The accuracy (R²) of the Model is:\", lm.score(X_test, Y_test))\n",
    "    print(\"The MAE of the Model is:\", mean_absolute_error(Y_test, predictions))\n",
    "    print(\"The intercept (alpha) is:\", lm.intercept_)\n",
    "    print(\"The coeficients (betas) are: \", lm.coef_)\n",
    "    \n",
    "    return lm_results.head()"
   ]
  },
  {
   "cell_type": "markdown",
   "id": "b0919a80",
   "metadata": {},
   "source": [
    "Now thanks to this function, we can create models faster trying any combination of features. \n",
    "\n",
    "Let's start with the most correlated variables (G1, G2 and Studytime) to predict G3:"
   ]
  },
  {
   "cell_type": "code",
   "execution_count": 27,
   "id": "e8e21329",
   "metadata": {
    "scrolled": true
   },
   "outputs": [
    {
     "name": "stdout",
     "output_type": "stream",
     "text": [
      "Target: G3\n",
      "Features: ['G1', 'G2', 'studytime']\n",
      "The accuracy (R²) of the Model is: 0.8622120910268747\n",
      "The MAE of the Model is: 0.7633374334655946\n",
      "The intercept (alpha) is: -0.5734796611477293\n",
      "The coeficients (betas) are:  [0.1490361  0.91634348 0.08643885]\n"
     ]
    },
    {
     "data": {
      "text/html": [
       "<div>\n",
       "<style scoped>\n",
       "    .dataframe tbody tr th:only-of-type {\n",
       "        vertical-align: middle;\n",
       "    }\n",
       "\n",
       "    .dataframe tbody tr th {\n",
       "        vertical-align: top;\n",
       "    }\n",
       "\n",
       "    .dataframe thead th {\n",
       "        text-align: right;\n",
       "    }\n",
       "</style>\n",
       "<table border=\"1\" class=\"dataframe\">\n",
       "  <thead>\n",
       "    <tr style=\"text-align: right;\">\n",
       "      <th></th>\n",
       "      <th>G1</th>\n",
       "      <th>G2</th>\n",
       "      <th>studytime</th>\n",
       "      <th>Y_target</th>\n",
       "      <th>Y_predicted</th>\n",
       "    </tr>\n",
       "  </thead>\n",
       "  <tbody>\n",
       "    <tr>\n",
       "      <th>0</th>\n",
       "      <td>9</td>\n",
       "      <td>7</td>\n",
       "      <td>2</td>\n",
       "      <td>8</td>\n",
       "      <td>7.355127</td>\n",
       "    </tr>\n",
       "    <tr>\n",
       "      <th>1</th>\n",
       "      <td>14</td>\n",
       "      <td>14</td>\n",
       "      <td>3</td>\n",
       "      <td>15</td>\n",
       "      <td>14.601151</td>\n",
       "    </tr>\n",
       "    <tr>\n",
       "      <th>2</th>\n",
       "      <td>15</td>\n",
       "      <td>16</td>\n",
       "      <td>2</td>\n",
       "      <td>16</td>\n",
       "      <td>16.496435</td>\n",
       "    </tr>\n",
       "    <tr>\n",
       "      <th>3</th>\n",
       "      <td>10</td>\n",
       "      <td>10</td>\n",
       "      <td>1</td>\n",
       "      <td>10</td>\n",
       "      <td>10.166755</td>\n",
       "    </tr>\n",
       "    <tr>\n",
       "      <th>4</th>\n",
       "      <td>9</td>\n",
       "      <td>9</td>\n",
       "      <td>1</td>\n",
       "      <td>10</td>\n",
       "      <td>9.101375</td>\n",
       "    </tr>\n",
       "  </tbody>\n",
       "</table>\n",
       "</div>"
      ],
      "text/plain": [
       "   G1  G2  studytime  Y_target  Y_predicted\n",
       "0   9   7          2         8     7.355127\n",
       "1  14  14          3        15    14.601151\n",
       "2  15  16          2        16    16.496435\n",
       "3  10  10          1        10    10.166755\n",
       "4   9   9          1        10     9.101375"
      ]
     },
     "execution_count": 27,
     "metadata": {},
     "output_type": "execute_result"
    }
   ],
   "source": [
    "# Linear Model using the most correlated features with G3 (\"G1\", \"G2\" and \"studytime\")\n",
    "\n",
    "linear_model_creator(data2, [\"G1\", \"G2\", \"studytime\"], \"G3\")"
   ]
  },
  {
   "cell_type": "markdown",
   "id": "e4ae3c98",
   "metadata": {},
   "source": [
    "As we can see, this model performed much better than using only 1 feature for the model, let's see if using more variables improves even more the model:"
   ]
  },
  {
   "cell_type": "code",
   "execution_count": 28,
   "id": "0b18db5f",
   "metadata": {
    "scrolled": true
   },
   "outputs": [
    {
     "name": "stdout",
     "output_type": "stream",
     "text": [
      "Target: G3\n",
      "Features: ['G1', 'G2', 'studytime', 'freetime', 'failures', 'absences']\n",
      "The accuracy (R²) of the Model is: 0.8637959119068196\n",
      "The MAE of the Model is: 0.7535429932702663\n",
      "The intercept (alpha) is: -0.22804807205482724\n",
      "The coeficients (betas) are:  [ 0.14309273  0.90338475  0.08790417 -0.05277017 -0.23678836  0.02437577]\n"
     ]
    },
    {
     "data": {
      "text/html": [
       "<div>\n",
       "<style scoped>\n",
       "    .dataframe tbody tr th:only-of-type {\n",
       "        vertical-align: middle;\n",
       "    }\n",
       "\n",
       "    .dataframe tbody tr th {\n",
       "        vertical-align: top;\n",
       "    }\n",
       "\n",
       "    .dataframe thead th {\n",
       "        text-align: right;\n",
       "    }\n",
       "</style>\n",
       "<table border=\"1\" class=\"dataframe\">\n",
       "  <thead>\n",
       "    <tr style=\"text-align: right;\">\n",
       "      <th></th>\n",
       "      <th>G1</th>\n",
       "      <th>G2</th>\n",
       "      <th>studytime</th>\n",
       "      <th>freetime</th>\n",
       "      <th>failures</th>\n",
       "      <th>absences</th>\n",
       "      <th>Y_target</th>\n",
       "      <th>Y_predicted</th>\n",
       "    </tr>\n",
       "  </thead>\n",
       "  <tbody>\n",
       "    <tr>\n",
       "      <th>0</th>\n",
       "      <td>9</td>\n",
       "      <td>7</td>\n",
       "      <td>2</td>\n",
       "      <td>2</td>\n",
       "      <td>0</td>\n",
       "      <td>2</td>\n",
       "      <td>8</td>\n",
       "      <td>7.502499</td>\n",
       "    </tr>\n",
       "    <tr>\n",
       "      <th>1</th>\n",
       "      <td>14</td>\n",
       "      <td>14</td>\n",
       "      <td>3</td>\n",
       "      <td>3</td>\n",
       "      <td>0</td>\n",
       "      <td>0</td>\n",
       "      <td>15</td>\n",
       "      <td>14.528039</td>\n",
       "    </tr>\n",
       "    <tr>\n",
       "      <th>2</th>\n",
       "      <td>15</td>\n",
       "      <td>16</td>\n",
       "      <td>2</td>\n",
       "      <td>2</td>\n",
       "      <td>0</td>\n",
       "      <td>6</td>\n",
       "      <td>16</td>\n",
       "      <td>16.589022</td>\n",
       "    </tr>\n",
       "    <tr>\n",
       "      <th>3</th>\n",
       "      <td>10</td>\n",
       "      <td>10</td>\n",
       "      <td>1</td>\n",
       "      <td>2</td>\n",
       "      <td>0</td>\n",
       "      <td>0</td>\n",
       "      <td>10</td>\n",
       "      <td>10.219091</td>\n",
       "    </tr>\n",
       "    <tr>\n",
       "      <th>4</th>\n",
       "      <td>9</td>\n",
       "      <td>9</td>\n",
       "      <td>1</td>\n",
       "      <td>4</td>\n",
       "      <td>1</td>\n",
       "      <td>0</td>\n",
       "      <td>10</td>\n",
       "      <td>8.830284</td>\n",
       "    </tr>\n",
       "  </tbody>\n",
       "</table>\n",
       "</div>"
      ],
      "text/plain": [
       "   G1  G2  studytime  freetime  failures  absences  Y_target  Y_predicted\n",
       "0   9   7          2         2         0         2         8     7.502499\n",
       "1  14  14          3         3         0         0        15    14.528039\n",
       "2  15  16          2         2         0         6        16    16.589022\n",
       "3  10  10          1         2         0         0        10    10.219091\n",
       "4   9   9          1         4         1         0        10     8.830284"
      ]
     },
     "execution_count": 28,
     "metadata": {},
     "output_type": "execute_result"
    }
   ],
   "source": [
    "# Linear Model using all the features\n",
    "\n",
    "linear_model_creator(data2, [\"G1\", \"G2\", \"studytime\",\"freetime\",\"failures\",\"absences\"], \"G3\")"
   ]
  },
  {
   "cell_type": "markdown",
   "id": "e1c9bc48",
   "metadata": {},
   "source": [
    "We can see that the $R^2$ of the Model improved only `~0.0016`.\n",
    "\n",
    "As we saw above, we should remove the variable `failures` because it has a low correlation with G3 and the other variables. Let's do a model without this variable:"
   ]
  },
  {
   "cell_type": "code",
   "execution_count": 29,
   "id": "166b4c40",
   "metadata": {
    "scrolled": true
   },
   "outputs": [
    {
     "name": "stdout",
     "output_type": "stream",
     "text": [
      "Target: G3\n",
      "Features: ['G1', 'G2', 'studytime', 'freetime', 'absences']\n",
      "The accuracy (R²) of the Model is: 0.8642576086396674\n",
      "The MAE of the Model is: 0.7536635779652209\n",
      "The intercept (alpha) is: -0.4972864149873093\n",
      "The coeficients (betas) are:  [ 0.15366661  0.91327016  0.09428168 -0.06077732  0.02214515]\n"
     ]
    },
    {
     "data": {
      "text/html": [
       "<div>\n",
       "<style scoped>\n",
       "    .dataframe tbody tr th:only-of-type {\n",
       "        vertical-align: middle;\n",
       "    }\n",
       "\n",
       "    .dataframe tbody tr th {\n",
       "        vertical-align: top;\n",
       "    }\n",
       "\n",
       "    .dataframe thead th {\n",
       "        text-align: right;\n",
       "    }\n",
       "</style>\n",
       "<table border=\"1\" class=\"dataframe\">\n",
       "  <thead>\n",
       "    <tr style=\"text-align: right;\">\n",
       "      <th></th>\n",
       "      <th>G1</th>\n",
       "      <th>G2</th>\n",
       "      <th>studytime</th>\n",
       "      <th>freetime</th>\n",
       "      <th>absences</th>\n",
       "      <th>Y_target</th>\n",
       "      <th>Y_predicted</th>\n",
       "    </tr>\n",
       "  </thead>\n",
       "  <tbody>\n",
       "    <tr>\n",
       "      <th>0</th>\n",
       "      <td>9</td>\n",
       "      <td>7</td>\n",
       "      <td>2</td>\n",
       "      <td>2</td>\n",
       "      <td>2</td>\n",
       "      <td>8</td>\n",
       "      <td>7.389903</td>\n",
       "    </tr>\n",
       "    <tr>\n",
       "      <th>1</th>\n",
       "      <td>14</td>\n",
       "      <td>14</td>\n",
       "      <td>3</td>\n",
       "      <td>3</td>\n",
       "      <td>0</td>\n",
       "      <td>15</td>\n",
       "      <td>14.540341</td>\n",
       "    </tr>\n",
       "    <tr>\n",
       "      <th>2</th>\n",
       "      <td>15</td>\n",
       "      <td>16</td>\n",
       "      <td>2</td>\n",
       "      <td>2</td>\n",
       "      <td>6</td>\n",
       "      <td>16</td>\n",
       "      <td>16.619915</td>\n",
       "    </tr>\n",
       "    <tr>\n",
       "      <th>3</th>\n",
       "      <td>10</td>\n",
       "      <td>10</td>\n",
       "      <td>1</td>\n",
       "      <td>2</td>\n",
       "      <td>0</td>\n",
       "      <td>10</td>\n",
       "      <td>10.144808</td>\n",
       "    </tr>\n",
       "    <tr>\n",
       "      <th>4</th>\n",
       "      <td>9</td>\n",
       "      <td>9</td>\n",
       "      <td>1</td>\n",
       "      <td>4</td>\n",
       "      <td>0</td>\n",
       "      <td>10</td>\n",
       "      <td>8.956317</td>\n",
       "    </tr>\n",
       "  </tbody>\n",
       "</table>\n",
       "</div>"
      ],
      "text/plain": [
       "   G1  G2  studytime  freetime  absences  Y_target  Y_predicted\n",
       "0   9   7          2         2         2         8     7.389903\n",
       "1  14  14          3         3         0        15    14.540341\n",
       "2  15  16          2         2         6        16    16.619915\n",
       "3  10  10          1         2         0        10    10.144808\n",
       "4   9   9          1         4         0        10     8.956317"
      ]
     },
     "execution_count": 29,
     "metadata": {},
     "output_type": "execute_result"
    }
   ],
   "source": [
    "# Linear Model using all the features except failures\n",
    "\n",
    "linear_model_creator(data2, [\"G1\", \"G2\", \"studytime\",\"freetime\",\"absences\"], \"G3\")"
   ]
  },
  {
   "cell_type": "markdown",
   "id": "d06e4d7f",
   "metadata": {},
   "source": [
    "As we can see, all this models performed better much better to predict `G3` than just using `studytime` as a feature.\n",
    "\n",
    "And the most accurate and almost with the lowest MAE is the model with features: `\"G1\", \"G2\", \"studytime\",\"freetime\",\"absences\"` but this difference is almost negligible."
   ]
  },
  {
   "cell_type": "markdown",
   "id": "082fbbbe",
   "metadata": {},
   "source": [
    "# Linear Regression Modeling with categorical variables\n",
    "\n",
    "There is a lot of ways to use this kind of variables in a Machine Learning model. You can find the three most used ways in [here](https://www.kaggle.com/alexisbcook/categorical-variables)\n",
    "\n",
    "On this proyect I'll create dummy variables (they work exactly as One-Hot Encoding example from Kaggle).\n",
    "\n",
    "The cateogircal variables could also work some kind of classification, and for this model to interprete it like, I'll add 2 more columns.\n",
    "\n",
    "One that will have values equal to 1 if the student have access to internet or 0 if not.\n",
    "\n",
    "The other column, on the contrary, will have values equal to 1 if the user doesn't have access to internet or 0 if the student have access to it."
   ]
  },
  {
   "cell_type": "markdown",
   "id": "e2ee5db5",
   "metadata": {},
   "source": [
    "## Final grades by study time and internet access\n",
    "\n",
    "Before going deeper into this, I'll take a look of how the study time and the final grades are related to internet access.\n",
    "\n"
   ]
  },
  {
   "cell_type": "code",
   "execution_count": 30,
   "id": "f848d89e",
   "metadata": {
    "scrolled": false
   },
   "outputs": [
    {
     "name": "stderr",
     "output_type": "stream",
     "text": [
      "C:\\ProgramData\\Anaconda3\\lib\\site-packages\\seaborn\\categorical.py:1296: UserWarning: 19.8% of the points cannot be placed; you may want to decrease the size of the markers or use stripplot.\n",
      "  warnings.warn(msg, UserWarning)\n",
      "C:\\ProgramData\\Anaconda3\\lib\\site-packages\\seaborn\\categorical.py:1296: UserWarning: 31.5% of the points cannot be placed; you may want to decrease the size of the markers or use stripplot.\n",
      "  warnings.warn(msg, UserWarning)\n"
     ]
    },
    {
     "data": {
      "image/png": "[encoded data removed]",
      "text/plain": [
       "<Figure size 1152x720 with 1 Axes>"
      ]
     },
     "metadata": {
      "needs_background": "light"
     },
     "output_type": "display_data"
    },
    {
     "data": {
      "text/plain": [
       "yes    498\n",
       "no     151\n",
       "Name: internet, dtype: int64"
      ]
     },
     "execution_count": 30,
     "metadata": {},
     "output_type": "execute_result"
    }
   ],
   "source": [
    "# Scatter plot to see the grades by study time and the internet access\n",
    "\n",
    "plt.figure(figsize=(16,10))\n",
    "\n",
    "plt.title(\"Grades by Study Time and if internet is available or not\")\n",
    "sns.swarmplot(x=\"studytime\", y=\"G3\", hue=\"internet\", data=data2, size=8)\n",
    "plt.xlabel(\"Study Time\")\n",
    "plt.ylabel(\"Final Grade\")\n",
    "\n",
    "plt.legend(loc=\"lower right\", title=\"Internet Access\", prop={\"size\":12})\n",
    "plt.show()\n",
    "\n",
    "data2.internet.value_counts()"
   ]
  },
  {
   "cell_type": "markdown",
   "id": "1f389a99",
   "metadata": {},
   "source": [
    "**Ignore the warning** that says that some points can't be placed, we can still get the big picture.\n",
    "\n",
    "On this swarmplot, we can see that most of the students have internet access and regardless if they have Internet Access or not, there is chances of getting bad (<10 points) or good grades (>10 points).\n",
    "\n",
    "Considering this, we see that most of the students who has internet access have more chances on getting more than 12.5 points on their final grades with lesser studying hours, than without internet."
   ]
  },
  {
   "cell_type": "markdown",
   "id": "d3b5017e",
   "metadata": {},
   "source": [
    "## Data Pre-Processing for dummy variables\n",
    "\n",
    "First, I'll create the dummy variables which will contain information as explain above."
   ]
  },
  {
   "cell_type": "code",
   "execution_count": 31,
   "id": "7660f9b1",
   "metadata": {
    "scrolled": true
   },
   "outputs": [
    {
     "data": {
      "text/html": [
       "<div>\n",
       "<style scoped>\n",
       "    .dataframe tbody tr th:only-of-type {\n",
       "        vertical-align: middle;\n",
       "    }\n",
       "\n",
       "    .dataframe tbody tr th {\n",
       "        vertical-align: top;\n",
       "    }\n",
       "\n",
       "    .dataframe thead th {\n",
       "        text-align: right;\n",
       "    }\n",
       "</style>\n",
       "<table border=\"1\" class=\"dataframe\">\n",
       "  <thead>\n",
       "    <tr style=\"text-align: right;\">\n",
       "      <th></th>\n",
       "      <th>Internet_no</th>\n",
       "      <th>Internet_yes</th>\n",
       "    </tr>\n",
       "  </thead>\n",
       "  <tbody>\n",
       "    <tr>\n",
       "      <th>0</th>\n",
       "      <td>1</td>\n",
       "      <td>0</td>\n",
       "    </tr>\n",
       "    <tr>\n",
       "      <th>1</th>\n",
       "      <td>0</td>\n",
       "      <td>1</td>\n",
       "    </tr>\n",
       "    <tr>\n",
       "      <th>2</th>\n",
       "      <td>0</td>\n",
       "      <td>1</td>\n",
       "    </tr>\n",
       "    <tr>\n",
       "      <th>3</th>\n",
       "      <td>0</td>\n",
       "      <td>1</td>\n",
       "    </tr>\n",
       "    <tr>\n",
       "      <th>4</th>\n",
       "      <td>1</td>\n",
       "      <td>0</td>\n",
       "    </tr>\n",
       "  </tbody>\n",
       "</table>\n",
       "</div>"
      ],
      "text/plain": [
       "   Internet_no  Internet_yes\n",
       "0            1             0\n",
       "1            0             1\n",
       "2            0             1\n",
       "3            0             1\n",
       "4            1             0"
      ]
     },
     "execution_count": 31,
     "metadata": {},
     "output_type": "execute_result"
    }
   ],
   "source": [
    "# Creating the dummy variables for internet\n",
    "\n",
    "dummy_internet = pd.get_dummies(data2[\"internet\"], prefix = \"Internet\")\n",
    "dummy_internet.head()"
   ]
  },
  {
   "cell_type": "markdown",
   "id": "b1326e00",
   "metadata": {},
   "source": [
    "Now I'll add this 2 columns into the dataframe:"
   ]
  },
  {
   "cell_type": "code",
   "execution_count": 32,
   "id": "e09ba6af",
   "metadata": {
    "scrolled": false
   },
   "outputs": [
    {
     "data": {
      "text/html": [
       "<div>\n",
       "<style scoped>\n",
       "    .dataframe tbody tr th:only-of-type {\n",
       "        vertical-align: middle;\n",
       "    }\n",
       "\n",
       "    .dataframe tbody tr th {\n",
       "        vertical-align: top;\n",
       "    }\n",
       "\n",
       "    .dataframe thead th {\n",
       "        text-align: right;\n",
       "    }\n",
       "</style>\n",
       "<table border=\"1\" class=\"dataframe\">\n",
       "  <thead>\n",
       "    <tr style=\"text-align: right;\">\n",
       "      <th></th>\n",
       "      <th>G1</th>\n",
       "      <th>G2</th>\n",
       "      <th>G3</th>\n",
       "      <th>failures</th>\n",
       "      <th>studytime</th>\n",
       "      <th>freetime</th>\n",
       "      <th>absences</th>\n",
       "      <th>internet</th>\n",
       "      <th>Internet_no</th>\n",
       "      <th>Internet_yes</th>\n",
       "    </tr>\n",
       "  </thead>\n",
       "  <tbody>\n",
       "    <tr>\n",
       "      <th>0</th>\n",
       "      <td>0</td>\n",
       "      <td>11</td>\n",
       "      <td>11</td>\n",
       "      <td>0</td>\n",
       "      <td>2</td>\n",
       "      <td>3</td>\n",
       "      <td>4</td>\n",
       "      <td>no</td>\n",
       "      <td>1</td>\n",
       "      <td>0</td>\n",
       "    </tr>\n",
       "    <tr>\n",
       "      <th>1</th>\n",
       "      <td>9</td>\n",
       "      <td>11</td>\n",
       "      <td>11</td>\n",
       "      <td>0</td>\n",
       "      <td>2</td>\n",
       "      <td>3</td>\n",
       "      <td>2</td>\n",
       "      <td>yes</td>\n",
       "      <td>0</td>\n",
       "      <td>1</td>\n",
       "    </tr>\n",
       "    <tr>\n",
       "      <th>2</th>\n",
       "      <td>12</td>\n",
       "      <td>13</td>\n",
       "      <td>12</td>\n",
       "      <td>0</td>\n",
       "      <td>2</td>\n",
       "      <td>3</td>\n",
       "      <td>6</td>\n",
       "      <td>yes</td>\n",
       "      <td>0</td>\n",
       "      <td>1</td>\n",
       "    </tr>\n",
       "    <tr>\n",
       "      <th>3</th>\n",
       "      <td>14</td>\n",
       "      <td>14</td>\n",
       "      <td>14</td>\n",
       "      <td>0</td>\n",
       "      <td>3</td>\n",
       "      <td>2</td>\n",
       "      <td>0</td>\n",
       "      <td>yes</td>\n",
       "      <td>0</td>\n",
       "      <td>1</td>\n",
       "    </tr>\n",
       "    <tr>\n",
       "      <th>4</th>\n",
       "      <td>11</td>\n",
       "      <td>13</td>\n",
       "      <td>13</td>\n",
       "      <td>0</td>\n",
       "      <td>2</td>\n",
       "      <td>3</td>\n",
       "      <td>0</td>\n",
       "      <td>no</td>\n",
       "      <td>1</td>\n",
       "      <td>0</td>\n",
       "    </tr>\n",
       "  </tbody>\n",
       "</table>\n",
       "</div>"
      ],
      "text/plain": [
       "   G1  G2  G3  failures  studytime  freetime  absences internet  Internet_no  \\\n",
       "0   0  11  11         0          2         3         4       no            1   \n",
       "1   9  11  11         0          2         3         2      yes            0   \n",
       "2  12  13  12         0          2         3         6      yes            0   \n",
       "3  14  14  14         0          3         2         0      yes            0   \n",
       "4  11  13  13         0          2         3         0       no            1   \n",
       "\n",
       "   Internet_yes  \n",
       "0             0  \n",
       "1             1  \n",
       "2             1  \n",
       "3             1  \n",
       "4             0  "
      ]
     },
     "execution_count": 32,
     "metadata": {},
     "output_type": "execute_result"
    }
   ],
   "source": [
    "# Creating a DF with the dummies inside\n",
    "\n",
    "data3 = data2.join(dummy_internet)\n",
    "column_names = data3.columns.values.tolist()\n",
    "data3.head()"
   ]
  },
  {
   "cell_type": "markdown",
   "id": "92266ef5",
   "metadata": {},
   "source": [
    "## Linear Model with Dummies inside\n",
    "\n",
    "We will choose only use for the training data the columns that are not the target variable, the column with strings on it (that's why we turned that column into a dummy, this was we can operate with it) and drop the column of failures, because as we saw, the model performed worst with this column."
   ]
  },
  {
   "cell_type": "code",
   "execution_count": 33,
   "id": "74442d7f",
   "metadata": {},
   "outputs": [
    {
     "data": {
      "text/plain": [
       "['G1',\n",
       " 'G2',\n",
       " 'studytime',\n",
       " 'freetime',\n",
       " 'absences',\n",
       " 'Internet_no',\n",
       " 'Internet_yes']"
      ]
     },
     "execution_count": 33,
     "metadata": {},
     "output_type": "execute_result"
    }
   ],
   "source": [
    "# Selecting the features from the new data frame\n",
    "\n",
    "feature_variables = data3.drop([\"G3\",\"internet\",\"failures\"], axis= 1).columns.values.tolist()\n",
    "feature_variables"
   ]
  },
  {
   "cell_type": "markdown",
   "id": "323dc3b2",
   "metadata": {},
   "source": [
    "In here, we will create the Model using the features as shown above:"
   ]
  },
  {
   "cell_type": "code",
   "execution_count": 34,
   "id": "84be1be3",
   "metadata": {
    "scrolled": false
   },
   "outputs": [
    {
     "name": "stdout",
     "output_type": "stream",
     "text": [
      "Target: G3\n",
      "Features: ['G1', 'G2', 'studytime', 'freetime', 'absences', 'Internet_no', 'Internet_yes']\n",
      "The accuracy (R²) of the Model is: 0.8637145603442766\n",
      "The MAE of the Model is: 0.7545408871546837\n",
      "The intercept (alpha) is: -0.5018243162799418\n",
      "The coeficients (betas) are:  [ 0.15381336  0.91372356  0.09439068 -0.06020052  0.0223225   0.00953246\n",
      " -0.00953246]\n"
     ]
    },
    {
     "data": {
      "text/html": [
       "<div>\n",
       "<style scoped>\n",
       "    .dataframe tbody tr th:only-of-type {\n",
       "        vertical-align: middle;\n",
       "    }\n",
       "\n",
       "    .dataframe tbody tr th {\n",
       "        vertical-align: top;\n",
       "    }\n",
       "\n",
       "    .dataframe thead th {\n",
       "        text-align: right;\n",
       "    }\n",
       "</style>\n",
       "<table border=\"1\" class=\"dataframe\">\n",
       "  <thead>\n",
       "    <tr style=\"text-align: right;\">\n",
       "      <th></th>\n",
       "      <th>G1</th>\n",
       "      <th>G2</th>\n",
       "      <th>studytime</th>\n",
       "      <th>freetime</th>\n",
       "      <th>absences</th>\n",
       "      <th>Internet_no</th>\n",
       "      <th>Internet_yes</th>\n",
       "      <th>Y_target</th>\n",
       "      <th>Y_predicted</th>\n",
       "    </tr>\n",
       "  </thead>\n",
       "  <tbody>\n",
       "    <tr>\n",
       "      <th>0</th>\n",
       "      <td>9</td>\n",
       "      <td>7</td>\n",
       "      <td>2</td>\n",
       "      <td>2</td>\n",
       "      <td>2</td>\n",
       "      <td>0</td>\n",
       "      <td>1</td>\n",
       "      <td>8</td>\n",
       "      <td>7.382054</td>\n",
       "    </tr>\n",
       "    <tr>\n",
       "      <th>1</th>\n",
       "      <td>14</td>\n",
       "      <td>14</td>\n",
       "      <td>3</td>\n",
       "      <td>3</td>\n",
       "      <td>0</td>\n",
       "      <td>0</td>\n",
       "      <td>1</td>\n",
       "      <td>15</td>\n",
       "      <td>14.536731</td>\n",
       "    </tr>\n",
       "    <tr>\n",
       "      <th>2</th>\n",
       "      <td>15</td>\n",
       "      <td>16</td>\n",
       "      <td>2</td>\n",
       "      <td>2</td>\n",
       "      <td>6</td>\n",
       "      <td>0</td>\n",
       "      <td>1</td>\n",
       "      <td>16</td>\n",
       "      <td>16.617736</td>\n",
       "    </tr>\n",
       "    <tr>\n",
       "      <th>3</th>\n",
       "      <td>10</td>\n",
       "      <td>10</td>\n",
       "      <td>1</td>\n",
       "      <td>2</td>\n",
       "      <td>0</td>\n",
       "      <td>0</td>\n",
       "      <td>1</td>\n",
       "      <td>10</td>\n",
       "      <td>10.138002</td>\n",
       "    </tr>\n",
       "    <tr>\n",
       "      <th>4</th>\n",
       "      <td>9</td>\n",
       "      <td>9</td>\n",
       "      <td>1</td>\n",
       "      <td>4</td>\n",
       "      <td>0</td>\n",
       "      <td>0</td>\n",
       "      <td>1</td>\n",
       "      <td>10</td>\n",
       "      <td>8.950064</td>\n",
       "    </tr>\n",
       "  </tbody>\n",
       "</table>\n",
       "</div>"
      ],
      "text/plain": [
       "   G1  G2  studytime  freetime  absences  Internet_no  Internet_yes  Y_target  \\\n",
       "0   9   7          2         2         2            0             1         8   \n",
       "1  14  14          3         3         0            0             1        15   \n",
       "2  15  16          2         2         6            0             1        16   \n",
       "3  10  10          1         2         0            0             1        10   \n",
       "4   9   9          1         4         0            0             1        10   \n",
       "\n",
       "   Y_predicted  \n",
       "0     7.382054  \n",
       "1    14.536731  \n",
       "2    16.617736  \n",
       "3    10.138002  \n",
       "4     8.950064  "
      ]
     },
     "execution_count": 34,
     "metadata": {},
     "output_type": "execute_result"
    }
   ],
   "source": [
    "# Creates a linear model with the dummies variables\n",
    "\n",
    "linear_model_creator(data3, feature_variables, \"G3\")"
   ]
  },
  {
   "cell_type": "markdown",
   "id": "2cefa1f4",
   "metadata": {},
   "source": [
    "Target: G3\n",
    "Features: ['G1', 'G2', 'studytime', 'freetime', 'absences']\n",
    "The accuracy (R²) of the Model is: 0.8642576086396674\n",
    "The MAE of the Model is: 0.7536635779652209\n",
    "The intercept (alpha) is: -0.4972864149873093\n",
    "The coeficients (betas) are:  [ 0.15366661  0.91327016  0.09428168 -0.06077732  0.02214515]"
   ]
  },
  {
   "cell_type": "markdown",
   "id": "6aa2ed19",
   "metadata": {},
   "source": [
    "As we saw, this last model doesn't perform better than the model without the dummy variables.\n",
    "\n",
    "And, the best model for this case is the last one we did before the model with the dummy:"
   ]
  },
  {
   "cell_type": "code",
   "execution_count": 40,
   "id": "45c30e38",
   "metadata": {},
   "outputs": [
    {
     "data": {
      "text/html": [
       "<div>\n",
       "<style scoped>\n",
       "    .dataframe tbody tr th:only-of-type {\n",
       "        vertical-align: middle;\n",
       "    }\n",
       "\n",
       "    .dataframe tbody tr th {\n",
       "        vertical-align: top;\n",
       "    }\n",
       "\n",
       "    .dataframe thead th {\n",
       "        text-align: right;\n",
       "    }\n",
       "</style>\n",
       "<table border=\"1\" class=\"dataframe\">\n",
       "  <thead>\n",
       "    <tr style=\"text-align: right;\">\n",
       "      <th></th>\n",
       "      <th>G1</th>\n",
       "      <th>G2</th>\n",
       "      <th>G3</th>\n",
       "      <th>failures</th>\n",
       "      <th>studytime</th>\n",
       "      <th>freetime</th>\n",
       "      <th>absences</th>\n",
       "    </tr>\n",
       "  </thead>\n",
       "  <tbody>\n",
       "    <tr>\n",
       "      <th>0</th>\n",
       "      <td>0</td>\n",
       "      <td>11</td>\n",
       "      <td>11</td>\n",
       "      <td>0</td>\n",
       "      <td>2</td>\n",
       "      <td>3</td>\n",
       "      <td>4</td>\n",
       "    </tr>\n",
       "    <tr>\n",
       "      <th>1</th>\n",
       "      <td>9</td>\n",
       "      <td>11</td>\n",
       "      <td>11</td>\n",
       "      <td>0</td>\n",
       "      <td>2</td>\n",
       "      <td>3</td>\n",
       "      <td>2</td>\n",
       "    </tr>\n",
       "    <tr>\n",
       "      <th>2</th>\n",
       "      <td>12</td>\n",
       "      <td>13</td>\n",
       "      <td>12</td>\n",
       "      <td>0</td>\n",
       "      <td>2</td>\n",
       "      <td>3</td>\n",
       "      <td>6</td>\n",
       "    </tr>\n",
       "    <tr>\n",
       "      <th>3</th>\n",
       "      <td>14</td>\n",
       "      <td>14</td>\n",
       "      <td>14</td>\n",
       "      <td>0</td>\n",
       "      <td>3</td>\n",
       "      <td>2</td>\n",
       "      <td>0</td>\n",
       "    </tr>\n",
       "    <tr>\n",
       "      <th>4</th>\n",
       "      <td>11</td>\n",
       "      <td>13</td>\n",
       "      <td>13</td>\n",
       "      <td>0</td>\n",
       "      <td>2</td>\n",
       "      <td>3</td>\n",
       "      <td>0</td>\n",
       "    </tr>\n",
       "  </tbody>\n",
       "</table>\n",
       "</div>"
      ],
      "text/plain": [
       "   G1  G2  G3  failures  studytime  freetime  absences\n",
       "0   0  11  11         0          2         3         4\n",
       "1   9  11  11         0          2         3         2\n",
       "2  12  13  12         0          2         3         6\n",
       "3  14  14  14         0          3         2         0\n",
       "4  11  13  13         0          2         3         0"
      ]
     },
     "execution_count": 40,
     "metadata": {},
     "output_type": "execute_result"
    }
   ],
   "source": [
    "data2.head()"
   ]
  },
  {
   "cell_type": "code",
   "execution_count": 78,
   "id": "bf376b94",
   "metadata": {},
   "outputs": [
    {
     "name": "stdout",
     "output_type": "stream",
     "text": [
      "-Target: G3\n",
      "-Features: ['G1', 'G2', 'studytime', 'freetime', 'absences']\n",
      "-The accuracy (R²) of the Model is: 0.8642576086396674\n",
      "-The MAE of the Model is: 0.7536635779652209\n",
      "\n",
      "-The intercept (alpha) is: -0.4972864149873093\n",
      "-The coeficients (betas) for each feature are:\n",
      "\n",
      "('G1', 0.1536666066916453)\n",
      "('G2', 0.9132701600171489)\n",
      "('studytime', 0.09428167841963961)\n",
      "('freetime', -0.06077731633661796)\n",
      "('absences', 0.02214515044888553)\n"
     ]
    },
    {
     "data": {
      "text/html": [
       "<div>\n",
       "<style scoped>\n",
       "    .dataframe tbody tr th:only-of-type {\n",
       "        vertical-align: middle;\n",
       "    }\n",
       "\n",
       "    .dataframe tbody tr th {\n",
       "        vertical-align: top;\n",
       "    }\n",
       "\n",
       "    .dataframe thead th {\n",
       "        text-align: right;\n",
       "    }\n",
       "</style>\n",
       "<table border=\"1\" class=\"dataframe\">\n",
       "  <thead>\n",
       "    <tr style=\"text-align: right;\">\n",
       "      <th></th>\n",
       "      <th>G1</th>\n",
       "      <th>G2</th>\n",
       "      <th>studytime</th>\n",
       "      <th>freetime</th>\n",
       "      <th>absences</th>\n",
       "      <th>Y_target</th>\n",
       "      <th>Y_predicted</th>\n",
       "    </tr>\n",
       "  </thead>\n",
       "  <tbody>\n",
       "    <tr>\n",
       "      <th>0</th>\n",
       "      <td>9</td>\n",
       "      <td>7</td>\n",
       "      <td>2</td>\n",
       "      <td>2</td>\n",
       "      <td>2</td>\n",
       "      <td>8</td>\n",
       "      <td>7.389903</td>\n",
       "    </tr>\n",
       "    <tr>\n",
       "      <th>1</th>\n",
       "      <td>14</td>\n",
       "      <td>14</td>\n",
       "      <td>3</td>\n",
       "      <td>3</td>\n",
       "      <td>0</td>\n",
       "      <td>15</td>\n",
       "      <td>14.540341</td>\n",
       "    </tr>\n",
       "    <tr>\n",
       "      <th>2</th>\n",
       "      <td>15</td>\n",
       "      <td>16</td>\n",
       "      <td>2</td>\n",
       "      <td>2</td>\n",
       "      <td>6</td>\n",
       "      <td>16</td>\n",
       "      <td>16.619915</td>\n",
       "    </tr>\n",
       "    <tr>\n",
       "      <th>3</th>\n",
       "      <td>10</td>\n",
       "      <td>10</td>\n",
       "      <td>1</td>\n",
       "      <td>2</td>\n",
       "      <td>0</td>\n",
       "      <td>10</td>\n",
       "      <td>10.144808</td>\n",
       "    </tr>\n",
       "    <tr>\n",
       "      <th>4</th>\n",
       "      <td>9</td>\n",
       "      <td>9</td>\n",
       "      <td>1</td>\n",
       "      <td>4</td>\n",
       "      <td>0</td>\n",
       "      <td>10</td>\n",
       "      <td>8.956317</td>\n",
       "    </tr>\n",
       "  </tbody>\n",
       "</table>\n",
       "</div>"
      ],
      "text/plain": [
       "   G1  G2  studytime  freetime  absences  Y_target  Y_predicted\n",
       "0   9   7          2         2         2         8     7.389903\n",
       "1  14  14          3         3         0        15    14.540341\n",
       "2  15  16          2         2         6        16    16.619915\n",
       "3  10  10          1         2         0        10    10.144808\n",
       "4   9   9          1         4         0        10     8.956317"
      ]
     },
     "execution_count": 78,
     "metadata": {},
     "output_type": "execute_result"
    }
   ],
   "source": [
    " # Algorithm\n",
    "\n",
    "# data2.drop(\"internet\", inplace=True, axis=1)\n",
    "# data2.head()    \n",
    "    \n",
    "best_features = [\"G1\", \"G2\", \"studytime\",\"freetime\",\"absences\"]\n",
    "target = \"G3\"\n",
    "\n",
    "# Predict variable (X) and target variable (Y)\n",
    "X = np.array(data2[best_features])\n",
    "Y = np.array(data2[target])\n",
    "\n",
    "# Dividing the data in training and test sets\n",
    "X_train, X_test, Y_train, Y_test = train_test_split(X, Y, test_size = 0.2, random_state = 0)\n",
    "        \n",
    "# Creating the Linear model\n",
    "lm = LinearRegression()\n",
    "lm.fit(X_train, Y_train)\n",
    "\n",
    "# Creating predictions with the model\n",
    "predictions = lm.predict(X_test)\n",
    "\n",
    "# Creating the DF with the used features, the target variable and the predicted data\n",
    "dictionary = {}\n",
    "\n",
    "for feature in best_features:\n",
    "    dictionary[feature] = X_test[:, best_features.index(feature)]\n",
    "\n",
    "lm_results = pd.DataFrame.from_dict(dictionary)\n",
    "lm_results[\"Y_target\"] = Y_test\n",
    "lm_results[\"Y_predicted\"] = predictions\n",
    "    \n",
    "print(\"-Target:\", target)\n",
    "print(\"-Features:\", best_features)\n",
    "print(\"-The accuracy (R²) of the Model is:\", lm.score(X_test, Y_test))\n",
    "print(\"-The MAE of the Model is:\", mean_absolute_error(Y_test, predictions))\n",
    "print(\"\\n-The intercept (alpha) is:\", lm.intercept_)\n",
    "print(\"-The coeficients (betas) for each feature are:\\n\")\n",
    "[print(conjunto) for conjunto in list(zip(best_features, lm.coef_))]\n",
    "\n",
    "lm_results.head()"
   ]
  },
  {
   "cell_type": "markdown",
   "id": "c4c3582f",
   "metadata": {},
   "source": [
    "And with this last show of the model, I end this project.\n",
    "\n",
    "Hope you like it and enjoyed viewing as much as I did.\n",
    "\n",
    "If you have any suggestions please let me know!"
   ]
  }
 ],
 "metadata": {
  "kernelspec": {
   "display_name": "Python 3 (ipykernel)",
   "language": "python",
   "name": "python3"
  },
  "language_info": {
   "codemirror_mode": {
    "name": "ipython",
    "version": 3
   },
   "file_extension": ".py",
   "mimetype": "text/x-python",
   "name": "python",
   "nbconvert_exporter": "python",
   "pygments_lexer": "ipython3",
   "version": "3.9.7"
  }
 },
 "nbformat": 4,
 "nbformat_minor": 5
}
